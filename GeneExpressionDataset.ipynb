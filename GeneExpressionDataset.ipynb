{
 "cells": [
    {
   "cell_type": "markdown",
   "id": "6fc38ba9",
   "metadata": {},
   "source": [
    "---\n",
    "# **Table of Contents**\n",
    "---\n",
    "\n",
    "1. [**Introduction**](#Section1)<br>\n",
    "2. [**Problem Statement**](#Section2)<br>\n",
    "3. [**Installing & Importing Libraries**](#Section3)<br>\n",
    "4. [**Data Acquisition & Description**](#Section4)<br>\n",
    "5. [**Exploratory Data Analysis**](#Section5)<br>\n",
    "6. [**Data Preparation**](#Section6)</br> \n",
    "7. [**Principal Component Analysis - PCA**](#Section7)</br>\n",
    "8. [**SMOTE Technique**](#Section8)</br>\n",
    "9. [**Model Building**](#Section9)\n",
    "10. [**Summary**](#Section10)</br>\n",
    "\n",
    "\n",
    "---"
   ]
  },
  {
   "cell_type": "markdown",
   "id": "ddf222a6",
   "metadata": {},
   "source": [
    "---\n",
    "<a name = Section1></a>\n",
    "# **1. Introduction**\n",
    "---\n",
    "\n",
    "Gene Expression dataset comes from a proof-of-concept study published in 1999 by Golub et al. It showed how new cases of cancer could be classified by gene expression monitoring (via DNA microarray) and thereby provided a general approach for identifying new cancer classes and assigning tumors to known classes. These data were used to classify patients with acute myeloid leukemia (AML) and acute lymphoblastic leukemia (ALL). \n",
    "<p><p align=\"left\"><img src=\"https://iiif.elifesciences.org/journal-cms/subjects%2F2020-11%2Felife-sciences-chromosomes-and-gene-expression-illustration.jpg/0,1,7016,2081/2000,/0/default.jpg\"></p>\n",
    "</p>"
   ]
  },
  {
   "cell_type": "markdown",
   "id": "f2a464c2",
   "metadata": {},
   "source": [
    "---\n",
    "<a name = Section2></a>\n",
    "# **2. Problem Statement**\n",
    "---\n",
    "There are two datasets containing the initial (training, 38 samples) and independent (test, 34 samples) datasets used in the paper. These datasets contain measurements corresponding to ALL and AML samples from Bone Marrow and Peripheral Blood. Intensity values have been re-scaled such that overall intensities for each chip are equivalent.\n",
    "\n",
    "-To build a model to claasify the patient with acute myeloid leukemia (AML) and acute lymphoblastic leukemia (ALL).\n",
    " \n"
   ]
  },
  {
   "cell_type": "markdown",
   "id": "97c7721b",
   "metadata": {},
   "source": [
    "---\n",
    "<a id = Section3></a>\n",
    "# **3. Installing & Importing Libraries**\n",
    "---\n",
    "- This section is emphasised on installing and importing the necessary libraries that will be required."
   ]
  },
  {
   "cell_type": "markdown",
   "id": "db7bde77",
   "metadata": {},
   "source": [
    "<a id = Section31></a>\n",
    "## 3.1 **Installing and Upgrading Libraries**"
   ]
  },
  {
   "cell_type": "code",
   "execution_count": 1,
   "id": "64871a29",
   "metadata": {},
   "outputs": [],
   "source": [
    "!pip install -q datascience                                      \n",
    "!pip install -q pandas-profiling        "
   ]
  },
  {
   "cell_type": "code",
   "execution_count": 2,
   "id": "222cb285",
   "metadata": {},
   "outputs": [],
   "source": [
    "!pip install -q imblearn"
   ]
  },
  {
   "cell_type": "code",
   "execution_count": 3,
   "id": "03eaa3a7",
   "metadata": {},
   "outputs": [],
   "source": [
    "!pip install -q --upgrade pandas-profiling     "
   ]
  },
  {
   "cell_type": "markdown",
   "id": "a8392bac",
   "metadata": {},
   "source": [
    "<a id = Section32></a>\n",
    "## 3.2 **Importing Libraries**"
   ]
  },
  {
   "cell_type": "code",
   "execution_count": 4,
   "id": "83bc6c68",
   "metadata": {},
   "outputs": [],
   "source": [
    "#-------------------------------------------------------------------------------------------------------------------------------\n",
    "import pandas as pd                                                 # Importing package pandas (For Panel Data Analysis)\n",
    "from pandas_profiling import ProfileReport                          # Import Pandas Profiling (To generate Univariate Analysis)\n",
    "#-------------------------------------------------------------------------------------------------------------------------------\n",
    "import numpy as np                                                  # Importing package numpys (For Numerical Python)\n",
    "from scipy.stats import randint as sp_randint\n",
    "\n",
    "#-------------------------------------------------------------------------------------------------------------------------------\n",
    "import warnings\n",
    "warnings. filterwarnings(\"ignore\") \n",
    "#---------------------------------------------------------------------------------------------------------------------------\n",
    "from sklearn.linear_model import LogisticRegression\n",
    "from sklearn.model_selection import train_test_split,cross_val_score , cross_val_predict ,GridSearchCV ,RandomizedSearchCV\n",
    "from sklearn.metrics import accuracy_score ,confusion_matrix ,precision_score , recall_score , f1_score, plot_confusion_matrix ,roc_auc_score\n",
    "from sklearn.preprocessing import StandardScaler\n",
    "from sklearn.pipeline import Pipeline\n",
    "from sklearn.tree import DecisionTreeClassifier,plot_tree  \n",
    "from sklearn.ensemble import RandomForestClassifier\n",
    "from sklearn.naive_bayes import GaussianNB\n",
    "from sklearn.utils import resample\n",
    "from sklearn.decomposition import PCA\n",
    "from sklearn.neighbors import KNeighborsClassifier\n",
    "from sklearn.svm import SVC\n",
    "from sklearn.model_selection import StratifiedKFold\n",
    "#---------------------------------------------------------------------\n",
    "from collections import Counter\n",
    "\n",
    "#--------------------------------------------------\n",
    "from imblearn.over_sampling import SMOTE\n",
    "\n",
    "#-------------------------------------------------------------------------------------------------------------------------------\n",
    "import matplotlib.pyplot as plt                                     # Importing pyplot interface to use matplotlib\n",
    "import seaborn as sns                                               # Importing seaborn library for interactive visualization\n",
    "%matplotlib inline"
   ]
  },
  {
   "cell_type": "markdown",
   "id": "38024c02",
   "metadata": {},
   "source": [
    "---\n",
    "<a name = Section4></a>\n",
    "# **4. Data Acquisition & Description**\n",
    "---\n",
    "\n",
    "__a__. How was it collected? \n",
    "\n",
    "Golub et al \"Molecular Classification of Cancer: Class Discovery and Class\n",
    "Prediction by Gene Expression Monitoring\"\n",
    "\n",
    "There are two datasets containing the initial (training, 38 samples) and independent (test, 34 samples) datasets used in the paper. These datasets contain measurements corresponding to ALL and AML samples from Bone Marrow and Peripheral Blood.\n",
    "\n",
    "In the actual.csv, which stores the labels, the patent ids go from 1 to 72 in ascending order.\n",
    "\n",
    "__b__. Is it a sample? If yes, was it properly sampled?\n",
    "- Yes, it is a sample. We don't have official information about the data collection method, but it appears *not* to be a random sample, so we can assume that it is not representative. \n",
    "\n",
    "__c__. The datasets used for the analysis is \n",
    "\n",
    "- data_set_ALL_AML_train.csv\n",
    "- data_set_ALL_AML_independent.csv\n",
    "- actual.csv "
   ]
  },
  {
   "cell_type": "markdown",
   "id": "09af7f4d",
   "metadata": {},
   "source": [
    "<a id = Section41></a>\n",
    "## 4.1 **Data Information**"
   ]
  },
  {
   "cell_type": "markdown",
   "id": "1e521ec8",
   "metadata": {},
   "source": [
    "## **4.1.1 Importing Data Set 1 - data_set_ALL_AML_train.csv**"
   ]
  },
  {
   "cell_type": "code",
   "execution_count": 5,
   "id": "0bda6fae",
   "metadata": {},
   "outputs": [
    {
     "name": "stdout",
     "output_type": "stream",
     "text": [
      "Data Shape: (7129, 78)\n"
     ]
    },
    {
     "data": {
      "text/html": [
       "<div>\n",
       "<style scoped>\n",
       "    .dataframe tbody tr th:only-of-type {\n",
       "        vertical-align: middle;\n",
       "    }\n",
       "\n",
       "    .dataframe tbody tr th {\n",
       "        vertical-align: top;\n",
       "    }\n",
       "\n",
       "    .dataframe thead th {\n",
       "        text-align: right;\n",
       "    }\n",
       "</style>\n",
       "<table border=\"1\" class=\"dataframe\">\n",
       "  <thead>\n",
       "    <tr style=\"text-align: right;\">\n",
       "      <th></th>\n",
       "      <th>Gene Description</th>\n",
       "      <th>Gene Accession Number</th>\n",
       "      <th>1</th>\n",
       "      <th>call</th>\n",
       "      <th>2</th>\n",
       "      <th>call.1</th>\n",
       "      <th>3</th>\n",
       "      <th>call.2</th>\n",
       "      <th>4</th>\n",
       "      <th>call.3</th>\n",
       "      <th>...</th>\n",
       "      <th>29</th>\n",
       "      <th>call.33</th>\n",
       "      <th>30</th>\n",
       "      <th>call.34</th>\n",
       "      <th>31</th>\n",
       "      <th>call.35</th>\n",
       "      <th>32</th>\n",
       "      <th>call.36</th>\n",
       "      <th>33</th>\n",
       "      <th>call.37</th>\n",
       "    </tr>\n",
       "  </thead>\n",
       "  <tbody>\n",
       "    <tr>\n",
       "      <th>0</th>\n",
       "      <td>AFFX-BioB-5_at (endogenous control)</td>\n",
       "      <td>AFFX-BioB-5_at</td>\n",
       "      <td>-214</td>\n",
       "      <td>A</td>\n",
       "      <td>-139</td>\n",
       "      <td>A</td>\n",
       "      <td>-76</td>\n",
       "      <td>A</td>\n",
       "      <td>-135</td>\n",
       "      <td>A</td>\n",
       "      <td>...</td>\n",
       "      <td>15</td>\n",
       "      <td>A</td>\n",
       "      <td>-318</td>\n",
       "      <td>A</td>\n",
       "      <td>-32</td>\n",
       "      <td>A</td>\n",
       "      <td>-124</td>\n",
       "      <td>A</td>\n",
       "      <td>-135</td>\n",
       "      <td>A</td>\n",
       "    </tr>\n",
       "    <tr>\n",
       "      <th>1</th>\n",
       "      <td>AFFX-BioB-M_at (endogenous control)</td>\n",
       "      <td>AFFX-BioB-M_at</td>\n",
       "      <td>-153</td>\n",
       "      <td>A</td>\n",
       "      <td>-73</td>\n",
       "      <td>A</td>\n",
       "      <td>-49</td>\n",
       "      <td>A</td>\n",
       "      <td>-114</td>\n",
       "      <td>A</td>\n",
       "      <td>...</td>\n",
       "      <td>-114</td>\n",
       "      <td>A</td>\n",
       "      <td>-192</td>\n",
       "      <td>A</td>\n",
       "      <td>-49</td>\n",
       "      <td>A</td>\n",
       "      <td>-79</td>\n",
       "      <td>A</td>\n",
       "      <td>-186</td>\n",
       "      <td>A</td>\n",
       "    </tr>\n",
       "    <tr>\n",
       "      <th>2</th>\n",
       "      <td>AFFX-BioB-3_at (endogenous control)</td>\n",
       "      <td>AFFX-BioB-3_at</td>\n",
       "      <td>-58</td>\n",
       "      <td>A</td>\n",
       "      <td>-1</td>\n",
       "      <td>A</td>\n",
       "      <td>-307</td>\n",
       "      <td>A</td>\n",
       "      <td>265</td>\n",
       "      <td>A</td>\n",
       "      <td>...</td>\n",
       "      <td>2</td>\n",
       "      <td>A</td>\n",
       "      <td>-95</td>\n",
       "      <td>A</td>\n",
       "      <td>49</td>\n",
       "      <td>A</td>\n",
       "      <td>-37</td>\n",
       "      <td>A</td>\n",
       "      <td>-70</td>\n",
       "      <td>A</td>\n",
       "    </tr>\n",
       "  </tbody>\n",
       "</table>\n",
       "<p>3 rows × 78 columns</p>\n",
       "</div>"
      ],
      "text/plain": [
       "                      Gene Description Gene Accession Number    1 call    2  \\\n",
       "0  AFFX-BioB-5_at (endogenous control)        AFFX-BioB-5_at -214    A -139   \n",
       "1  AFFX-BioB-M_at (endogenous control)        AFFX-BioB-M_at -153    A  -73   \n",
       "2  AFFX-BioB-3_at (endogenous control)        AFFX-BioB-3_at  -58    A   -1   \n",
       "\n",
       "  call.1    3 call.2    4 call.3  ...   29 call.33   30 call.34  31 call.35  \\\n",
       "0      A  -76      A -135      A  ...   15       A -318       A -32       A   \n",
       "1      A  -49      A -114      A  ... -114       A -192       A -49       A   \n",
       "2      A -307      A  265      A  ...    2       A  -95       A  49       A   \n",
       "\n",
       "    32 call.36   33 call.37  \n",
       "0 -124       A -135       A  \n",
       "1  -79       A -186       A  \n",
       "2  -37       A  -70       A  \n",
       "\n",
       "[3 rows x 78 columns]"
      ]
     },
     "execution_count": 5,
     "metadata": {},
     "output_type": "execute_result"
    }
   ],
   "source": [
    "df_gene_exp_train = pd.read_csv(filepath_or_buffer = 'https://raw.githubusercontent.com/gayathrig21/Gene-Expression-Dataset/main/data_set_ALL_AML_train.csv')\n",
    "print('Data Shape:', df_gene_exp_train.shape)\n",
    "df_gene_exp_train.head(3)"
   ]
  },
  {
   "cell_type": "markdown",
   "id": "e36b00b4",
   "metadata": {},
   "source": [
    "This is **training dataset** which has 78 columns and 7129 rows."
   ]
  },
  {
   "cell_type": "code",
   "execution_count": 6,
   "id": "959568f9",
   "metadata": {},
   "outputs": [
    {
     "data": {
      "text/plain": [
       "False"
      ]
     },
     "execution_count": 6,
     "metadata": {},
     "output_type": "execute_result"
    }
   ],
   "source": [
    "df_gene_exp_train.isnull().sum().any()"
   ]
  },
  {
   "cell_type": "markdown",
   "id": "763e5a36",
   "metadata": {},
   "source": [
    "**No missing / null** values in the dataset"
   ]
  },
  {
   "cell_type": "code",
   "execution_count": 7,
   "id": "5a3a3739",
   "metadata": {},
   "outputs": [
    {
     "name": "stdout",
     "output_type": "stream",
     "text": [
      "<class 'pandas.core.frame.DataFrame'>\n",
      "RangeIndex: 7129 entries, 0 to 7128\n",
      "Data columns (total 78 columns):\n",
      " #   Column                 Non-Null Count  Dtype \n",
      "---  ------                 --------------  ----- \n",
      " 0   Gene Description       7129 non-null   object\n",
      " 1   Gene Accession Number  7129 non-null   object\n",
      " 2   1                      7129 non-null   int64 \n",
      " 3   call                   7129 non-null   object\n",
      " 4   2                      7129 non-null   int64 \n",
      " 5   call.1                 7129 non-null   object\n",
      " 6   3                      7129 non-null   int64 \n",
      " 7   call.2                 7129 non-null   object\n",
      " 8   4                      7129 non-null   int64 \n",
      " 9   call.3                 7129 non-null   object\n",
      " 10  5                      7129 non-null   int64 \n",
      " 11  call.4                 7129 non-null   object\n",
      " 12  6                      7129 non-null   int64 \n",
      " 13  call.5                 7129 non-null   object\n",
      " 14  7                      7129 non-null   int64 \n",
      " 15  call.6                 7129 non-null   object\n",
      " 16  8                      7129 non-null   int64 \n",
      " 17  call.7                 7129 non-null   object\n",
      " 18  9                      7129 non-null   int64 \n",
      " 19  call.8                 7129 non-null   object\n",
      " 20  10                     7129 non-null   int64 \n",
      " 21  call.9                 7129 non-null   object\n",
      " 22  11                     7129 non-null   int64 \n",
      " 23  call.10                7129 non-null   object\n",
      " 24  12                     7129 non-null   int64 \n",
      " 25  call.11                7129 non-null   object\n",
      " 26  13                     7129 non-null   int64 \n",
      " 27  call.12                7129 non-null   object\n",
      " 28  14                     7129 non-null   int64 \n",
      " 29  call.13                7129 non-null   object\n",
      " 30  15                     7129 non-null   int64 \n",
      " 31  call.14                7129 non-null   object\n",
      " 32  16                     7129 non-null   int64 \n",
      " 33  call.15                7129 non-null   object\n",
      " 34  17                     7129 non-null   int64 \n",
      " 35  call.16                7129 non-null   object\n",
      " 36  18                     7129 non-null   int64 \n",
      " 37  call.17                7129 non-null   object\n",
      " 38  19                     7129 non-null   int64 \n",
      " 39  call.18                7129 non-null   object\n",
      " 40  20                     7129 non-null   int64 \n",
      " 41  call.19                7129 non-null   object\n",
      " 42  21                     7129 non-null   int64 \n",
      " 43  call.20                7129 non-null   object\n",
      " 44  22                     7129 non-null   int64 \n",
      " 45  call.21                7129 non-null   object\n",
      " 46  23                     7129 non-null   int64 \n",
      " 47  call.22                7129 non-null   object\n",
      " 48  24                     7129 non-null   int64 \n",
      " 49  call.23                7129 non-null   object\n",
      " 50  25                     7129 non-null   int64 \n",
      " 51  call.24                7129 non-null   object\n",
      " 52  26                     7129 non-null   int64 \n",
      " 53  call.25                7129 non-null   object\n",
      " 54  27                     7129 non-null   int64 \n",
      " 55  call.26                7129 non-null   object\n",
      " 56  34                     7129 non-null   int64 \n",
      " 57  call.27                7129 non-null   object\n",
      " 58  35                     7129 non-null   int64 \n",
      " 59  call.28                7129 non-null   object\n",
      " 60  36                     7129 non-null   int64 \n",
      " 61  call.29                7129 non-null   object\n",
      " 62  37                     7129 non-null   int64 \n",
      " 63  call.30                7129 non-null   object\n",
      " 64  38                     7129 non-null   int64 \n",
      " 65  call.31                7129 non-null   object\n",
      " 66  28                     7129 non-null   int64 \n",
      " 67  call.32                7129 non-null   object\n",
      " 68  29                     7129 non-null   int64 \n",
      " 69  call.33                7129 non-null   object\n",
      " 70  30                     7129 non-null   int64 \n",
      " 71  call.34                7129 non-null   object\n",
      " 72  31                     7129 non-null   int64 \n",
      " 73  call.35                7129 non-null   object\n",
      " 74  32                     7129 non-null   int64 \n",
      " 75  call.36                7129 non-null   object\n",
      " 76  33                     7129 non-null   int64 \n",
      " 77  call.37                7129 non-null   object\n",
      "dtypes: int64(38), object(40)\n",
      "memory usage: 4.2+ MB\n"
     ]
    }
   ],
   "source": [
    "df_gene_exp_train.info()"
   ]
  },
  {
   "cell_type": "markdown",
   "id": "f1f4c1cc",
   "metadata": {},
   "source": [
    "## **4.1.2 Importing Data Set 2 - data_set_ALL_AML_independent.csv**"
   ]
  },
  {
   "cell_type": "code",
   "execution_count": 8,
   "id": "7bc2de0d",
   "metadata": {},
   "outputs": [
    {
     "name": "stdout",
     "output_type": "stream",
     "text": [
      "Data Shape: (7129, 70)\n"
     ]
    },
    {
     "data": {
      "text/html": [
       "<div>\n",
       "<style scoped>\n",
       "    .dataframe tbody tr th:only-of-type {\n",
       "        vertical-align: middle;\n",
       "    }\n",
       "\n",
       "    .dataframe tbody tr th {\n",
       "        vertical-align: top;\n",
       "    }\n",
       "\n",
       "    .dataframe thead th {\n",
       "        text-align: right;\n",
       "    }\n",
       "</style>\n",
       "<table border=\"1\" class=\"dataframe\">\n",
       "  <thead>\n",
       "    <tr style=\"text-align: right;\">\n",
       "      <th></th>\n",
       "      <th>Gene Description</th>\n",
       "      <th>Gene Accession Number</th>\n",
       "      <th>39</th>\n",
       "      <th>call</th>\n",
       "      <th>40</th>\n",
       "      <th>call.1</th>\n",
       "      <th>42</th>\n",
       "      <th>call.2</th>\n",
       "      <th>47</th>\n",
       "      <th>call.3</th>\n",
       "      <th>...</th>\n",
       "      <th>65</th>\n",
       "      <th>call.29</th>\n",
       "      <th>66</th>\n",
       "      <th>call.30</th>\n",
       "      <th>63</th>\n",
       "      <th>call.31</th>\n",
       "      <th>64</th>\n",
       "      <th>call.32</th>\n",
       "      <th>62</th>\n",
       "      <th>call.33</th>\n",
       "    </tr>\n",
       "  </thead>\n",
       "  <tbody>\n",
       "    <tr>\n",
       "      <th>0</th>\n",
       "      <td>AFFX-BioB-5_at (endogenous control)</td>\n",
       "      <td>AFFX-BioB-5_at</td>\n",
       "      <td>-342</td>\n",
       "      <td>A</td>\n",
       "      <td>-87</td>\n",
       "      <td>A</td>\n",
       "      <td>22</td>\n",
       "      <td>A</td>\n",
       "      <td>-243</td>\n",
       "      <td>A</td>\n",
       "      <td>...</td>\n",
       "      <td>-62</td>\n",
       "      <td>A</td>\n",
       "      <td>-58</td>\n",
       "      <td>A</td>\n",
       "      <td>-161</td>\n",
       "      <td>A</td>\n",
       "      <td>-48</td>\n",
       "      <td>A</td>\n",
       "      <td>-176</td>\n",
       "      <td>A</td>\n",
       "    </tr>\n",
       "    <tr>\n",
       "      <th>1</th>\n",
       "      <td>AFFX-BioB-M_at (endogenous control)</td>\n",
       "      <td>AFFX-BioB-M_at</td>\n",
       "      <td>-200</td>\n",
       "      <td>A</td>\n",
       "      <td>-248</td>\n",
       "      <td>A</td>\n",
       "      <td>-153</td>\n",
       "      <td>A</td>\n",
       "      <td>-218</td>\n",
       "      <td>A</td>\n",
       "      <td>...</td>\n",
       "      <td>-198</td>\n",
       "      <td>A</td>\n",
       "      <td>-217</td>\n",
       "      <td>A</td>\n",
       "      <td>-215</td>\n",
       "      <td>A</td>\n",
       "      <td>-531</td>\n",
       "      <td>A</td>\n",
       "      <td>-284</td>\n",
       "      <td>A</td>\n",
       "    </tr>\n",
       "    <tr>\n",
       "      <th>2</th>\n",
       "      <td>AFFX-BioB-3_at (endogenous control)</td>\n",
       "      <td>AFFX-BioB-3_at</td>\n",
       "      <td>41</td>\n",
       "      <td>A</td>\n",
       "      <td>262</td>\n",
       "      <td>A</td>\n",
       "      <td>17</td>\n",
       "      <td>A</td>\n",
       "      <td>-163</td>\n",
       "      <td>A</td>\n",
       "      <td>...</td>\n",
       "      <td>-5</td>\n",
       "      <td>A</td>\n",
       "      <td>63</td>\n",
       "      <td>A</td>\n",
       "      <td>-46</td>\n",
       "      <td>A</td>\n",
       "      <td>-124</td>\n",
       "      <td>A</td>\n",
       "      <td>-81</td>\n",
       "      <td>A</td>\n",
       "    </tr>\n",
       "  </tbody>\n",
       "</table>\n",
       "<p>3 rows × 70 columns</p>\n",
       "</div>"
      ],
      "text/plain": [
       "                      Gene Description Gene Accession Number   39 call   40  \\\n",
       "0  AFFX-BioB-5_at (endogenous control)        AFFX-BioB-5_at -342    A  -87   \n",
       "1  AFFX-BioB-M_at (endogenous control)        AFFX-BioB-M_at -200    A -248   \n",
       "2  AFFX-BioB-3_at (endogenous control)        AFFX-BioB-3_at   41    A  262   \n",
       "\n",
       "  call.1   42 call.2   47 call.3  ...   65 call.29   66 call.30   63 call.31  \\\n",
       "0      A   22      A -243      A  ...  -62       A  -58       A -161       A   \n",
       "1      A -153      A -218      A  ... -198       A -217       A -215       A   \n",
       "2      A   17      A -163      A  ...   -5       A   63       A  -46       A   \n",
       "\n",
       "    64 call.32   62 call.33  \n",
       "0  -48       A -176       A  \n",
       "1 -531       A -284       A  \n",
       "2 -124       A  -81       A  \n",
       "\n",
       "[3 rows x 70 columns]"
      ]
     },
     "execution_count": 8,
     "metadata": {},
     "output_type": "execute_result"
    }
   ],
   "source": [
    "df_gene_exp_test = pd.read_csv(filepath_or_buffer = 'https://raw.githubusercontent.com/gayathrig21/Gene-Expression-Dataset/main/data_set_ALL_AML_independent.csv')\n",
    "print('Data Shape:', df_gene_exp_test.shape)\n",
    "df_gene_exp_test.head(3)"
   ]
  },
  {
   "cell_type": "markdown",
   "id": "61789384",
   "metadata": {},
   "source": [
    "This is **testing dataset** which has 70 columns and 7129 columns rows. Here, the number of columns is not same as training dataset but number of rows are same."
   ]
  },
  {
   "cell_type": "code",
   "execution_count": 9,
   "id": "eb88557d",
   "metadata": {},
   "outputs": [
    {
     "data": {
      "text/plain": [
       "False"
      ]
     },
     "execution_count": 9,
     "metadata": {},
     "output_type": "execute_result"
    }
   ],
   "source": [
    "df_gene_exp_test.isnull().sum().any()"
   ]
  },
  {
   "cell_type": "markdown",
   "id": "92b77662",
   "metadata": {},
   "source": [
    "**No missing / null** values in the dataset"
   ]
  },
  {
   "cell_type": "code",
   "execution_count": 10,
   "id": "3c2a8bfa",
   "metadata": {},
   "outputs": [
    {
     "name": "stdout",
     "output_type": "stream",
     "text": [
      "<class 'pandas.core.frame.DataFrame'>\n",
      "RangeIndex: 7129 entries, 0 to 7128\n",
      "Data columns (total 70 columns):\n",
      " #   Column                 Non-Null Count  Dtype \n",
      "---  ------                 --------------  ----- \n",
      " 0   Gene Description       7129 non-null   object\n",
      " 1   Gene Accession Number  7129 non-null   object\n",
      " 2   39                     7129 non-null   int64 \n",
      " 3   call                   7129 non-null   object\n",
      " 4   40                     7129 non-null   int64 \n",
      " 5   call.1                 7129 non-null   object\n",
      " 6   42                     7129 non-null   int64 \n",
      " 7   call.2                 7129 non-null   object\n",
      " 8   47                     7129 non-null   int64 \n",
      " 9   call.3                 7129 non-null   object\n",
      " 10  48                     7129 non-null   int64 \n",
      " 11  call.4                 7129 non-null   object\n",
      " 12  49                     7129 non-null   int64 \n",
      " 13  call.5                 7129 non-null   object\n",
      " 14  41                     7129 non-null   int64 \n",
      " 15  call.6                 7129 non-null   object\n",
      " 16  43                     7129 non-null   int64 \n",
      " 17  call.7                 7129 non-null   object\n",
      " 18  44                     7129 non-null   int64 \n",
      " 19  call.8                 7129 non-null   object\n",
      " 20  45                     7129 non-null   int64 \n",
      " 21  call.9                 7129 non-null   object\n",
      " 22  46                     7129 non-null   int64 \n",
      " 23  call.10                7129 non-null   object\n",
      " 24  70                     7129 non-null   int64 \n",
      " 25  call.11                7129 non-null   object\n",
      " 26  71                     7129 non-null   int64 \n",
      " 27  call.12                7129 non-null   object\n",
      " 28  72                     7129 non-null   int64 \n",
      " 29  call.13                7129 non-null   object\n",
      " 30  68                     7129 non-null   int64 \n",
      " 31  call.14                7129 non-null   object\n",
      " 32  69                     7129 non-null   int64 \n",
      " 33  call.15                7129 non-null   object\n",
      " 34  67                     7129 non-null   int64 \n",
      " 35  call.16                7129 non-null   object\n",
      " 36  55                     7129 non-null   int64 \n",
      " 37  call.17                7129 non-null   object\n",
      " 38  56                     7129 non-null   int64 \n",
      " 39  call.18                7129 non-null   object\n",
      " 40  59                     7129 non-null   int64 \n",
      " 41  call.19                7129 non-null   object\n",
      " 42  52                     7129 non-null   int64 \n",
      " 43  call.20                7129 non-null   object\n",
      " 44  53                     7129 non-null   int64 \n",
      " 45  call.21                7129 non-null   object\n",
      " 46  51                     7129 non-null   int64 \n",
      " 47  call.22                7129 non-null   object\n",
      " 48  50                     7129 non-null   int64 \n",
      " 49  call.23                7129 non-null   object\n",
      " 50  54                     7129 non-null   int64 \n",
      " 51  call.24                7129 non-null   object\n",
      " 52  57                     7129 non-null   int64 \n",
      " 53  call.25                7129 non-null   object\n",
      " 54  58                     7129 non-null   int64 \n",
      " 55  call.26                7129 non-null   object\n",
      " 56  60                     7129 non-null   int64 \n",
      " 57  call.27                7129 non-null   object\n",
      " 58  61                     7129 non-null   int64 \n",
      " 59  call.28                7129 non-null   object\n",
      " 60  65                     7129 non-null   int64 \n",
      " 61  call.29                7129 non-null   object\n",
      " 62  66                     7129 non-null   int64 \n",
      " 63  call.30                7129 non-null   object\n",
      " 64  63                     7129 non-null   int64 \n",
      " 65  call.31                7129 non-null   object\n",
      " 66  64                     7129 non-null   int64 \n",
      " 67  call.32                7129 non-null   object\n",
      " 68  62                     7129 non-null   int64 \n",
      " 69  call.33                7129 non-null   object\n",
      "dtypes: int64(34), object(36)\n",
      "memory usage: 3.8+ MB\n"
     ]
    }
   ],
   "source": [
    "df_gene_exp_test.info()"
   ]
  },
  {
   "cell_type": "markdown",
   "id": "a8a32c60",
   "metadata": {},
   "source": [
    "## **4.1.3 Importing Data Set 3 - actual.csv**"
   ]
  },
  {
   "cell_type": "code",
   "execution_count": 11,
   "id": "e9d6a8d6",
   "metadata": {},
   "outputs": [
    {
     "name": "stdout",
     "output_type": "stream",
     "text": [
      "Data Shape: (72, 2)\n"
     ]
    },
    {
     "data": {
      "text/html": [
       "<div>\n",
       "<style scoped>\n",
       "    .dataframe tbody tr th:only-of-type {\n",
       "        vertical-align: middle;\n",
       "    }\n",
       "\n",
       "    .dataframe tbody tr th {\n",
       "        vertical-align: top;\n",
       "    }\n",
       "\n",
       "    .dataframe thead th {\n",
       "        text-align: right;\n",
       "    }\n",
       "</style>\n",
       "<table border=\"1\" class=\"dataframe\">\n",
       "  <thead>\n",
       "    <tr style=\"text-align: right;\">\n",
       "      <th></th>\n",
       "      <th>patient</th>\n",
       "      <th>cancer</th>\n",
       "    </tr>\n",
       "  </thead>\n",
       "  <tbody>\n",
       "    <tr>\n",
       "      <th>0</th>\n",
       "      <td>1</td>\n",
       "      <td>ALL</td>\n",
       "    </tr>\n",
       "    <tr>\n",
       "      <th>1</th>\n",
       "      <td>2</td>\n",
       "      <td>ALL</td>\n",
       "    </tr>\n",
       "    <tr>\n",
       "      <th>2</th>\n",
       "      <td>3</td>\n",
       "      <td>ALL</td>\n",
       "    </tr>\n",
       "  </tbody>\n",
       "</table>\n",
       "</div>"
      ],
      "text/plain": [
       "   patient cancer\n",
       "0        1    ALL\n",
       "1        2    ALL\n",
       "2        3    ALL"
      ]
     },
     "execution_count": 11,
     "metadata": {},
     "output_type": "execute_result"
    }
   ],
   "source": [
    "df_actual = pd.read_csv(filepath_or_buffer = 'https://raw.githubusercontent.com/gayathrig21/Gene-Expression-Dataset/main/actual.csv')\n",
    "print('Data Shape:', df_actual.shape)\n",
    "df_actual.head(3)"
   ]
  },
  {
   "cell_type": "code",
   "execution_count": 12,
   "id": "44c9dad0",
   "metadata": {},
   "outputs": [
    {
     "name": "stdout",
     "output_type": "stream",
     "text": [
      "<class 'pandas.core.frame.DataFrame'>\n",
      "RangeIndex: 72 entries, 0 to 71\n",
      "Data columns (total 2 columns):\n",
      " #   Column   Non-Null Count  Dtype \n",
      "---  ------   --------------  ----- \n",
      " 0   patient  72 non-null     int64 \n",
      " 1   cancer   72 non-null     object\n",
      "dtypes: int64(1), object(1)\n",
      "memory usage: 1.2+ KB\n"
     ]
    }
   ],
   "source": [
    "df_actual.info()"
   ]
  },
  {
   "cell_type": "code",
   "execution_count": 13,
   "id": "c6341276",
   "metadata": {},
   "outputs": [
    {
     "data": {
      "text/plain": [
       "False"
      ]
     },
     "execution_count": 13,
     "metadata": {},
     "output_type": "execute_result"
    }
   ],
   "source": [
    "df_actual.isnull().sum().any()"
   ]
  },
  {
   "cell_type": "markdown",
   "id": "0b729100",
   "metadata": {},
   "source": [
    "**No missing / null** values in the dataset"
   ]
  },
  {
   "cell_type": "code",
   "execution_count": 14,
   "id": "79334c7c",
   "metadata": {},
   "outputs": [
    {
     "name": "stdout",
     "output_type": "stream",
     "text": [
      "<class 'pandas.core.frame.DataFrame'>\n",
      "RangeIndex: 72 entries, 0 to 71\n",
      "Data columns (total 2 columns):\n",
      " #   Column   Non-Null Count  Dtype \n",
      "---  ------   --------------  ----- \n",
      " 0   patient  72 non-null     int64 \n",
      " 1   cancer   72 non-null     object\n",
      "dtypes: int64(1), object(1)\n",
      "memory usage: 1.2+ KB\n"
     ]
    }
   ],
   "source": [
    "df_actual.info()"
   ]
  },
  {
   "cell_type": "markdown",
   "id": "91a92dc0",
   "metadata": {},
   "source": [
    "The **7129 gene descriptions** are provided as the rows and the values for each patient as the columns. This will clearly require some tidying up."
   ]
  },
  {
   "cell_type": "markdown",
   "id": "972878e0",
   "metadata": {},
   "source": [
    "The numbered columns refer to the **72 patients** in the study, cross-indexed to the ground truth in actual.csv. By taking all 7129 genes (or fewer, if we feature engineer) for patient 1, we should be able to predict Acute Myeloid Leukemia (AML) or Acute Lymphoblastic Leukemia (ALL)."
   ]
  },
  {
   "cell_type": "markdown",
   "id": "320d9197",
   "metadata": {},
   "source": [
    "<a id = Section42></a>\n",
    "## 4.2 **Data Cleaning**"
   ]
  },
  {
   "cell_type": "markdown",
   "id": "6945b067",
   "metadata": {},
   "source": [
    "## **4.2.1 Removing Call Columns**"
   ]
  },
  {
   "cell_type": "markdown",
   "id": "3b1dc658",
   "metadata": {},
   "source": [
    "The call columns are a decision on whether that gene is present in the preceding column. We dont need it for the anaysis and it is a classification column if a particular gene is (**A**) Absent, (**P**) Present or (**M**) Marginal."
   ]
  },
  {
   "cell_type": "code",
   "execution_count": 15,
   "id": "8d9c7b47",
   "metadata": {},
   "outputs": [],
   "source": [
    "call_cols_to_drop_train = [col for col in df_gene_exp_train.columns if 'call'  in col]\n",
    "call_cols_to_drop_test = [col for col in df_gene_exp_test.columns if 'call'  in col]"
   ]
  },
  {
   "cell_type": "code",
   "execution_count": 16,
   "id": "03d28653",
   "metadata": {},
   "outputs": [],
   "source": [
    "df_gene_exp_train.drop(call_cols_to_drop_train , axis=1 , inplace=True)\n",
    "df_gene_exp_test.drop(call_cols_to_drop_test , axis=1 , inplace=True)"
   ]
  },
  {
   "cell_type": "code",
   "execution_count": 17,
   "id": "2e16e2b8",
   "metadata": {},
   "outputs": [
    {
     "data": {
      "text/plain": [
       "(7129, 40)"
      ]
     },
     "execution_count": 17,
     "metadata": {},
     "output_type": "execute_result"
    }
   ],
   "source": [
    "df_gene_exp_train.shape"
   ]
  },
  {
   "cell_type": "code",
   "execution_count": 18,
   "id": "35227dba",
   "metadata": {},
   "outputs": [
    {
     "data": {
      "text/plain": [
       "(7129, 36)"
      ]
     },
     "execution_count": 18,
     "metadata": {},
     "output_type": "execute_result"
    }
   ],
   "source": [
    "df_gene_exp_test.shape"
   ]
  },
  {
   "cell_type": "markdown",
   "id": "6d7ed935",
   "metadata": {},
   "source": [
    "Now both the **training** and **testing** dataset has 7129 rows  but 40 and 36 columns respectively"
   ]
  },
  {
   "cell_type": "markdown",
   "id": "9217137f",
   "metadata": {},
   "source": [
    "## **4.2.2 Transposing Dataset**"
   ]
  },
  {
   "cell_type": "markdown",
   "id": "a28489a6",
   "metadata": {},
   "source": [
    "As the **gene descriptions (7129)** are provided as rows and numbered columns are **patient id**  , we need to transponse the dataset "
   ]
  },
  {
   "cell_type": "code",
   "execution_count": 19,
   "id": "25c2965a",
   "metadata": {},
   "outputs": [
    {
     "data": {
      "text/plain": [
       "(40, 7129)"
      ]
     },
     "execution_count": 19,
     "metadata": {},
     "output_type": "execute_result"
    }
   ],
   "source": [
    "df_gene_exp_train_t= df_gene_exp_train.T\n",
    "df_gene_exp_train_t.shape"
   ]
  },
  {
   "cell_type": "code",
   "execution_count": 20,
   "id": "bc61314e",
   "metadata": {},
   "outputs": [
    {
     "data": {
      "text/plain": [
       "(36, 7129)"
      ]
     },
     "execution_count": 20,
     "metadata": {},
     "output_type": "execute_result"
    }
   ],
   "source": [
    "df_gene_exp_test_t= df_gene_exp_test.T\n",
    "df_gene_exp_test_t.shape"
   ]
  },
  {
   "cell_type": "markdown",
   "id": "7a7dafa9",
   "metadata": {},
   "source": [
    "Now we have **7129** columns in both the **training and testing** dataset "
   ]
  },
  {
   "cell_type": "markdown",
   "id": "096e1903",
   "metadata": {},
   "source": [
    "## **4.2.3 Clean Up and Dataset Building**"
   ]
  },
  {
   "cell_type": "markdown",
   "id": "d9eb6165",
   "metadata": {},
   "source": [
    "Here we will concatenate both the **training and testing** dataset. We can split the training and testing dataset later"
   ]
  },
  {
   "cell_type": "code",
   "execution_count": 21,
   "id": "262e2825",
   "metadata": {},
   "outputs": [
    {
     "data": {
      "text/plain": [
       "(76, 7129)"
      ]
     },
     "execution_count": 21,
     "metadata": {},
     "output_type": "execute_result"
    }
   ],
   "source": [
    "df_gene_exp=pd.concat([df_gene_exp_train_t, df_gene_exp_test_t])\n",
    "df_gene_exp.shape"
   ]
  },
  {
   "cell_type": "markdown",
   "id": "b948cedc",
   "metadata": {},
   "source": [
    "The dataset now consists of **76** rows and **7129** columns"
   ]
  },
  {
   "cell_type": "code",
   "execution_count": 22,
   "id": "3a1bf496",
   "metadata": {},
   "outputs": [
    {
     "data": {
      "text/plain": [
       "False"
      ]
     },
     "execution_count": 22,
     "metadata": {},
     "output_type": "execute_result"
    }
   ],
   "source": [
    "df_gene_exp.isnull().sum().any()"
   ]
  },
  {
   "cell_type": "markdown",
   "id": "d925e4df",
   "metadata": {},
   "source": [
    "**No missing/null** values in the dataset"
   ]
  },
  {
   "cell_type": "code",
   "execution_count": 23,
   "id": "a8c0203d",
   "metadata": {},
   "outputs": [
    {
     "data": {
      "text/html": [
       "<div>\n",
       "<style scoped>\n",
       "    .dataframe tbody tr th:only-of-type {\n",
       "        vertical-align: middle;\n",
       "    }\n",
       "\n",
       "    .dataframe tbody tr th {\n",
       "        vertical-align: top;\n",
       "    }\n",
       "\n",
       "    .dataframe thead th {\n",
       "        text-align: right;\n",
       "    }\n",
       "</style>\n",
       "<table border=\"1\" class=\"dataframe\">\n",
       "  <thead>\n",
       "    <tr style=\"text-align: right;\">\n",
       "      <th></th>\n",
       "      <th>0</th>\n",
       "      <th>1</th>\n",
       "      <th>2</th>\n",
       "      <th>3</th>\n",
       "      <th>4</th>\n",
       "      <th>5</th>\n",
       "      <th>6</th>\n",
       "      <th>7</th>\n",
       "      <th>8</th>\n",
       "      <th>9</th>\n",
       "      <th>...</th>\n",
       "      <th>7119</th>\n",
       "      <th>7120</th>\n",
       "      <th>7121</th>\n",
       "      <th>7122</th>\n",
       "      <th>7123</th>\n",
       "      <th>7124</th>\n",
       "      <th>7125</th>\n",
       "      <th>7126</th>\n",
       "      <th>7127</th>\n",
       "      <th>7128</th>\n",
       "    </tr>\n",
       "  </thead>\n",
       "  <tbody>\n",
       "    <tr>\n",
       "      <th>Gene Description</th>\n",
       "      <td>AFFX-BioB-5_at (endogenous control)</td>\n",
       "      <td>AFFX-BioB-M_at (endogenous control)</td>\n",
       "      <td>AFFX-BioB-3_at (endogenous control)</td>\n",
       "      <td>AFFX-BioC-5_at (endogenous control)</td>\n",
       "      <td>AFFX-BioC-3_at (endogenous control)</td>\n",
       "      <td>AFFX-BioDn-5_at (endogenous control)</td>\n",
       "      <td>AFFX-BioDn-3_at (endogenous control)</td>\n",
       "      <td>AFFX-CreX-5_at (endogenous control)</td>\n",
       "      <td>AFFX-CreX-3_at (endogenous control)</td>\n",
       "      <td>AFFX-BioB-5_st (endogenous control)</td>\n",
       "      <td>...</td>\n",
       "      <td>Transcription factor Stat5b (stat5b) mRNA</td>\n",
       "      <td>Breast epithelial antigen BA46 mRNA</td>\n",
       "      <td>GB DEF = Calcium/calmodulin-dependent protein ...</td>\n",
       "      <td>TUBULIN ALPHA-4 CHAIN</td>\n",
       "      <td>CYP4B1 Cytochrome P450; subfamily IVB; polypep...</td>\n",
       "      <td>PTGER3 Prostaglandin E receptor 3 (subtype EP3...</td>\n",
       "      <td>HMG2 High-mobility group (nonhistone chromosom...</td>\n",
       "      <td>RB1 Retinoblastoma 1 (including osteosarcoma)</td>\n",
       "      <td>GB DEF = Glycophorin Sta (type A) exons 3 and ...</td>\n",
       "      <td>GB DEF = mRNA (clone 1A7)</td>\n",
       "    </tr>\n",
       "    <tr>\n",
       "      <th>Gene Accession Number</th>\n",
       "      <td>AFFX-BioB-5_at</td>\n",
       "      <td>AFFX-BioB-M_at</td>\n",
       "      <td>AFFX-BioB-3_at</td>\n",
       "      <td>AFFX-BioC-5_at</td>\n",
       "      <td>AFFX-BioC-3_at</td>\n",
       "      <td>AFFX-BioDn-5_at</td>\n",
       "      <td>AFFX-BioDn-3_at</td>\n",
       "      <td>AFFX-CreX-5_at</td>\n",
       "      <td>AFFX-CreX-3_at</td>\n",
       "      <td>AFFX-BioB-5_st</td>\n",
       "      <td>...</td>\n",
       "      <td>U48730_at</td>\n",
       "      <td>U58516_at</td>\n",
       "      <td>U73738_at</td>\n",
       "      <td>X06956_at</td>\n",
       "      <td>X16699_at</td>\n",
       "      <td>X83863_at</td>\n",
       "      <td>Z17240_at</td>\n",
       "      <td>L49218_f_at</td>\n",
       "      <td>M71243_f_at</td>\n",
       "      <td>Z78285_f_at</td>\n",
       "    </tr>\n",
       "    <tr>\n",
       "      <th>1</th>\n",
       "      <td>-214</td>\n",
       "      <td>-153</td>\n",
       "      <td>-58</td>\n",
       "      <td>88</td>\n",
       "      <td>-295</td>\n",
       "      <td>-558</td>\n",
       "      <td>199</td>\n",
       "      <td>-176</td>\n",
       "      <td>252</td>\n",
       "      <td>206</td>\n",
       "      <td>...</td>\n",
       "      <td>185</td>\n",
       "      <td>511</td>\n",
       "      <td>-125</td>\n",
       "      <td>389</td>\n",
       "      <td>-37</td>\n",
       "      <td>793</td>\n",
       "      <td>329</td>\n",
       "      <td>36</td>\n",
       "      <td>191</td>\n",
       "      <td>-37</td>\n",
       "    </tr>\n",
       "  </tbody>\n",
       "</table>\n",
       "<p>3 rows × 7129 columns</p>\n",
       "</div>"
      ],
      "text/plain": [
       "                                                      0     \\\n",
       "Gene Description       AFFX-BioB-5_at (endogenous control)   \n",
       "Gene Accession Number                       AFFX-BioB-5_at   \n",
       "1                                                     -214   \n",
       "\n",
       "                                                      1     \\\n",
       "Gene Description       AFFX-BioB-M_at (endogenous control)   \n",
       "Gene Accession Number                       AFFX-BioB-M_at   \n",
       "1                                                     -153   \n",
       "\n",
       "                                                      2     \\\n",
       "Gene Description       AFFX-BioB-3_at (endogenous control)   \n",
       "Gene Accession Number                       AFFX-BioB-3_at   \n",
       "1                                                      -58   \n",
       "\n",
       "                                                      3     \\\n",
       "Gene Description       AFFX-BioC-5_at (endogenous control)   \n",
       "Gene Accession Number                       AFFX-BioC-5_at   \n",
       "1                                                       88   \n",
       "\n",
       "                                                      4     \\\n",
       "Gene Description       AFFX-BioC-3_at (endogenous control)   \n",
       "Gene Accession Number                       AFFX-BioC-3_at   \n",
       "1                                                     -295   \n",
       "\n",
       "                                                       5     \\\n",
       "Gene Description       AFFX-BioDn-5_at (endogenous control)   \n",
       "Gene Accession Number                       AFFX-BioDn-5_at   \n",
       "1                                                      -558   \n",
       "\n",
       "                                                       6     \\\n",
       "Gene Description       AFFX-BioDn-3_at (endogenous control)   \n",
       "Gene Accession Number                       AFFX-BioDn-3_at   \n",
       "1                                                       199   \n",
       "\n",
       "                                                      7     \\\n",
       "Gene Description       AFFX-CreX-5_at (endogenous control)   \n",
       "Gene Accession Number                       AFFX-CreX-5_at   \n",
       "1                                                     -176   \n",
       "\n",
       "                                                      8     \\\n",
       "Gene Description       AFFX-CreX-3_at (endogenous control)   \n",
       "Gene Accession Number                       AFFX-CreX-3_at   \n",
       "1                                                      252   \n",
       "\n",
       "                                                      9     ...  \\\n",
       "Gene Description       AFFX-BioB-5_st (endogenous control)  ...   \n",
       "Gene Accession Number                       AFFX-BioB-5_st  ...   \n",
       "1                                                      206  ...   \n",
       "\n",
       "                                                            7119  \\\n",
       "Gene Description       Transcription factor Stat5b (stat5b) mRNA   \n",
       "Gene Accession Number                                  U48730_at   \n",
       "1                                                            185   \n",
       "\n",
       "                                                      7120  \\\n",
       "Gene Description       Breast epithelial antigen BA46 mRNA   \n",
       "Gene Accession Number                            U58516_at   \n",
       "1                                                      511   \n",
       "\n",
       "                                                                    7121  \\\n",
       "Gene Description       GB DEF = Calcium/calmodulin-dependent protein ...   \n",
       "Gene Accession Number                                          U73738_at   \n",
       "1                                                                   -125   \n",
       "\n",
       "                                        7122  \\\n",
       "Gene Description       TUBULIN ALPHA-4 CHAIN   \n",
       "Gene Accession Number              X06956_at   \n",
       "1                                        389   \n",
       "\n",
       "                                                                    7123  \\\n",
       "Gene Description       CYP4B1 Cytochrome P450; subfamily IVB; polypep...   \n",
       "Gene Accession Number                                          X16699_at   \n",
       "1                                                                    -37   \n",
       "\n",
       "                                                                    7124  \\\n",
       "Gene Description       PTGER3 Prostaglandin E receptor 3 (subtype EP3...   \n",
       "Gene Accession Number                                          X83863_at   \n",
       "1                                                                    793   \n",
       "\n",
       "                                                                    7125  \\\n",
       "Gene Description       HMG2 High-mobility group (nonhistone chromosom...   \n",
       "Gene Accession Number                                          Z17240_at   \n",
       "1                                                                    329   \n",
       "\n",
       "                                                                7126  \\\n",
       "Gene Description       RB1 Retinoblastoma 1 (including osteosarcoma)   \n",
       "Gene Accession Number                                    L49218_f_at   \n",
       "1                                                                 36   \n",
       "\n",
       "                                                                    7127  \\\n",
       "Gene Description       GB DEF = Glycophorin Sta (type A) exons 3 and ...   \n",
       "Gene Accession Number                                        M71243_f_at   \n",
       "1                                                                    191   \n",
       "\n",
       "                                            7128  \n",
       "Gene Description       GB DEF = mRNA (clone 1A7)  \n",
       "Gene Accession Number                Z78285_f_at  \n",
       "1                                            -37  \n",
       "\n",
       "[3 rows x 7129 columns]"
      ]
     },
     "execution_count": 23,
     "metadata": {},
     "output_type": "execute_result"
    }
   ],
   "source": [
    "df_gene_exp.head(3)"
   ]
  },
  {
   "cell_type": "markdown",
   "id": "54156efc",
   "metadata": {},
   "source": [
    "We can drop **Gene Description and Gene Accession Number** row as they do not provide useful information for building a model"
   ]
  },
  {
   "cell_type": "code",
   "execution_count": 24,
   "id": "df5d6e8b",
   "metadata": {},
   "outputs": [],
   "source": [
    "rows_to_drop =['Gene Description','Gene Accession Number']\n",
    "df_gene_exp.drop(rows_to_drop , axis=0 , inplace=True)"
   ]
  },
  {
   "cell_type": "code",
   "execution_count": 25,
   "id": "5afd5357",
   "metadata": {},
   "outputs": [
    {
     "data": {
      "text/plain": [
       "Index(['index',       0,       1,       2,       3,       4,       5,       6,\n",
       "             7,       8,\n",
       "       ...\n",
       "          7119,    7120,    7121,    7122,    7123,    7124,    7125,    7126,\n",
       "          7127,    7128],\n",
       "      dtype='object', length=7130)"
      ]
     },
     "execution_count": 25,
     "metadata": {},
     "output_type": "execute_result"
    }
   ],
   "source": [
    "df_gene_exp = df_gene_exp.reset_index()\n",
    "df_gene_exp.columns"
   ]
  },
  {
   "cell_type": "markdown",
   "id": "e168f88a",
   "metadata": {},
   "source": [
    "Renaming the **index** column to **patient_id**"
   ]
  },
  {
   "cell_type": "code",
   "execution_count": 26,
   "id": "bee6b344",
   "metadata": {},
   "outputs": [],
   "source": [
    "df_gene_exp.rename(columns={'index':'patient_id'} , inplace = True)"
   ]
  },
  {
   "cell_type": "code",
   "execution_count": 27,
   "id": "e35c2bd3",
   "metadata": {},
   "outputs": [
    {
     "data": {
      "text/html": [
       "<div>\n",
       "<style scoped>\n",
       "    .dataframe tbody tr th:only-of-type {\n",
       "        vertical-align: middle;\n",
       "    }\n",
       "\n",
       "    .dataframe tbody tr th {\n",
       "        vertical-align: top;\n",
       "    }\n",
       "\n",
       "    .dataframe thead th {\n",
       "        text-align: right;\n",
       "    }\n",
       "</style>\n",
       "<table border=\"1\" class=\"dataframe\">\n",
       "  <thead>\n",
       "    <tr style=\"text-align: right;\">\n",
       "      <th></th>\n",
       "      <th>patient_id</th>\n",
       "      <th>0</th>\n",
       "      <th>1</th>\n",
       "      <th>2</th>\n",
       "      <th>3</th>\n",
       "      <th>4</th>\n",
       "      <th>5</th>\n",
       "      <th>6</th>\n",
       "      <th>7</th>\n",
       "      <th>8</th>\n",
       "      <th>...</th>\n",
       "      <th>7119</th>\n",
       "      <th>7120</th>\n",
       "      <th>7121</th>\n",
       "      <th>7122</th>\n",
       "      <th>7123</th>\n",
       "      <th>7124</th>\n",
       "      <th>7125</th>\n",
       "      <th>7126</th>\n",
       "      <th>7127</th>\n",
       "      <th>7128</th>\n",
       "    </tr>\n",
       "  </thead>\n",
       "  <tbody>\n",
       "    <tr>\n",
       "      <th>0</th>\n",
       "      <td>1</td>\n",
       "      <td>-214</td>\n",
       "      <td>-153</td>\n",
       "      <td>-58</td>\n",
       "      <td>88</td>\n",
       "      <td>-295</td>\n",
       "      <td>-558</td>\n",
       "      <td>199</td>\n",
       "      <td>-176</td>\n",
       "      <td>252</td>\n",
       "      <td>...</td>\n",
       "      <td>185</td>\n",
       "      <td>511</td>\n",
       "      <td>-125</td>\n",
       "      <td>389</td>\n",
       "      <td>-37</td>\n",
       "      <td>793</td>\n",
       "      <td>329</td>\n",
       "      <td>36</td>\n",
       "      <td>191</td>\n",
       "      <td>-37</td>\n",
       "    </tr>\n",
       "    <tr>\n",
       "      <th>1</th>\n",
       "      <td>2</td>\n",
       "      <td>-139</td>\n",
       "      <td>-73</td>\n",
       "      <td>-1</td>\n",
       "      <td>283</td>\n",
       "      <td>-264</td>\n",
       "      <td>-400</td>\n",
       "      <td>-330</td>\n",
       "      <td>-168</td>\n",
       "      <td>101</td>\n",
       "      <td>...</td>\n",
       "      <td>169</td>\n",
       "      <td>837</td>\n",
       "      <td>-36</td>\n",
       "      <td>442</td>\n",
       "      <td>-17</td>\n",
       "      <td>782</td>\n",
       "      <td>295</td>\n",
       "      <td>11</td>\n",
       "      <td>76</td>\n",
       "      <td>-14</td>\n",
       "    </tr>\n",
       "    <tr>\n",
       "      <th>2</th>\n",
       "      <td>3</td>\n",
       "      <td>-76</td>\n",
       "      <td>-49</td>\n",
       "      <td>-307</td>\n",
       "      <td>309</td>\n",
       "      <td>-376</td>\n",
       "      <td>-650</td>\n",
       "      <td>33</td>\n",
       "      <td>-367</td>\n",
       "      <td>206</td>\n",
       "      <td>...</td>\n",
       "      <td>315</td>\n",
       "      <td>1199</td>\n",
       "      <td>33</td>\n",
       "      <td>168</td>\n",
       "      <td>52</td>\n",
       "      <td>1138</td>\n",
       "      <td>777</td>\n",
       "      <td>41</td>\n",
       "      <td>228</td>\n",
       "      <td>-41</td>\n",
       "    </tr>\n",
       "    <tr>\n",
       "      <th>3</th>\n",
       "      <td>4</td>\n",
       "      <td>-135</td>\n",
       "      <td>-114</td>\n",
       "      <td>265</td>\n",
       "      <td>12</td>\n",
       "      <td>-419</td>\n",
       "      <td>-585</td>\n",
       "      <td>158</td>\n",
       "      <td>-253</td>\n",
       "      <td>49</td>\n",
       "      <td>...</td>\n",
       "      <td>240</td>\n",
       "      <td>835</td>\n",
       "      <td>218</td>\n",
       "      <td>174</td>\n",
       "      <td>-110</td>\n",
       "      <td>627</td>\n",
       "      <td>170</td>\n",
       "      <td>-50</td>\n",
       "      <td>126</td>\n",
       "      <td>-91</td>\n",
       "    </tr>\n",
       "    <tr>\n",
       "      <th>4</th>\n",
       "      <td>5</td>\n",
       "      <td>-106</td>\n",
       "      <td>-125</td>\n",
       "      <td>-76</td>\n",
       "      <td>168</td>\n",
       "      <td>-230</td>\n",
       "      <td>-284</td>\n",
       "      <td>4</td>\n",
       "      <td>-122</td>\n",
       "      <td>70</td>\n",
       "      <td>...</td>\n",
       "      <td>156</td>\n",
       "      <td>649</td>\n",
       "      <td>57</td>\n",
       "      <td>504</td>\n",
       "      <td>-26</td>\n",
       "      <td>250</td>\n",
       "      <td>314</td>\n",
       "      <td>14</td>\n",
       "      <td>56</td>\n",
       "      <td>-25</td>\n",
       "    </tr>\n",
       "  </tbody>\n",
       "</table>\n",
       "<p>5 rows × 7130 columns</p>\n",
       "</div>"
      ],
      "text/plain": [
       "  patient_id     0     1     2    3     4     5     6     7    8  ... 7119  \\\n",
       "0          1  -214  -153   -58   88  -295  -558   199  -176  252  ...  185   \n",
       "1          2  -139   -73    -1  283  -264  -400  -330  -168  101  ...  169   \n",
       "2          3   -76   -49  -307  309  -376  -650    33  -367  206  ...  315   \n",
       "3          4  -135  -114   265   12  -419  -585   158  -253   49  ...  240   \n",
       "4          5  -106  -125   -76  168  -230  -284     4  -122   70  ...  156   \n",
       "\n",
       "   7120  7121 7122  7123  7124 7125 7126 7127 7128  \n",
       "0   511  -125  389   -37   793  329   36  191  -37  \n",
       "1   837   -36  442   -17   782  295   11   76  -14  \n",
       "2  1199    33  168    52  1138  777   41  228  -41  \n",
       "3   835   218  174  -110   627  170  -50  126  -91  \n",
       "4   649    57  504   -26   250  314   14   56  -25  \n",
       "\n",
       "[5 rows x 7130 columns]"
      ]
     },
     "execution_count": 27,
     "metadata": {},
     "output_type": "execute_result"
    }
   ],
   "source": [
    "df_gene_exp.head()"
   ]
  },
  {
   "cell_type": "code",
   "execution_count": 28,
   "id": "57c136f9",
   "metadata": {},
   "outputs": [
    {
     "data": {
      "text/plain": [
       "(72, 7130)"
      ]
     },
     "execution_count": 28,
     "metadata": {},
     "output_type": "execute_result"
    }
   ],
   "source": [
    "df_gene_exp.shape"
   ]
  },
  {
   "cell_type": "code",
   "execution_count": 29,
   "id": "d6dd90a0",
   "metadata": {},
   "outputs": [],
   "source": [
    "df_gene_exp = df_gene_exp.astype({\"patient_id\": int})"
   ]
  },
  {
   "cell_type": "markdown",
   "id": "cbadb349",
   "metadata": {},
   "source": [
    "Renaming the column  **patient** to **patient_id** in the actual dataset so that it can be merged to the main dataset"
   ]
  },
  {
   "cell_type": "code",
   "execution_count": 30,
   "id": "3b903405",
   "metadata": {},
   "outputs": [],
   "source": [
    "df_actual.rename(columns={'patient':'patient_id'} , inplace = True)"
   ]
  },
  {
   "cell_type": "code",
   "execution_count": 31,
   "id": "416954ff",
   "metadata": {},
   "outputs": [
    {
     "data": {
      "text/html": [
       "<div>\n",
       "<style scoped>\n",
       "    .dataframe tbody tr th:only-of-type {\n",
       "        vertical-align: middle;\n",
       "    }\n",
       "\n",
       "    .dataframe tbody tr th {\n",
       "        vertical-align: top;\n",
       "    }\n",
       "\n",
       "    .dataframe thead th {\n",
       "        text-align: right;\n",
       "    }\n",
       "</style>\n",
       "<table border=\"1\" class=\"dataframe\">\n",
       "  <thead>\n",
       "    <tr style=\"text-align: right;\">\n",
       "      <th></th>\n",
       "      <th>patient_id</th>\n",
       "      <th>cancer</th>\n",
       "    </tr>\n",
       "  </thead>\n",
       "  <tbody>\n",
       "    <tr>\n",
       "      <th>0</th>\n",
       "      <td>1</td>\n",
       "      <td>ALL</td>\n",
       "    </tr>\n",
       "    <tr>\n",
       "      <th>1</th>\n",
       "      <td>2</td>\n",
       "      <td>ALL</td>\n",
       "    </tr>\n",
       "    <tr>\n",
       "      <th>2</th>\n",
       "      <td>3</td>\n",
       "      <td>ALL</td>\n",
       "    </tr>\n",
       "  </tbody>\n",
       "</table>\n",
       "</div>"
      ],
      "text/plain": [
       "   patient_id cancer\n",
       "0           1    ALL\n",
       "1           2    ALL\n",
       "2           3    ALL"
      ]
     },
     "execution_count": 31,
     "metadata": {},
     "output_type": "execute_result"
    }
   ],
   "source": [
    "df_actual.head(3)"
   ]
  },
  {
   "cell_type": "markdown",
   "id": "1bf08554",
   "metadata": {},
   "source": [
    "Merging the actual and main dataset"
   ]
  },
  {
   "cell_type": "code",
   "execution_count": 32,
   "id": "72ef727e",
   "metadata": {},
   "outputs": [],
   "source": [
    "df_gene_exp= pd.merge(df_gene_exp, df_actual, on='patient_id')"
   ]
  },
  {
   "cell_type": "code",
   "execution_count": 33,
   "id": "30f12d2e",
   "metadata": {},
   "outputs": [
    {
     "data": {
      "text/html": [
       "<div>\n",
       "<style scoped>\n",
       "    .dataframe tbody tr th:only-of-type {\n",
       "        vertical-align: middle;\n",
       "    }\n",
       "\n",
       "    .dataframe tbody tr th {\n",
       "        vertical-align: top;\n",
       "    }\n",
       "\n",
       "    .dataframe thead th {\n",
       "        text-align: right;\n",
       "    }\n",
       "</style>\n",
       "<table border=\"1\" class=\"dataframe\">\n",
       "  <thead>\n",
       "    <tr style=\"text-align: right;\">\n",
       "      <th></th>\n",
       "      <th>patient_id</th>\n",
       "      <th>0</th>\n",
       "      <th>1</th>\n",
       "      <th>2</th>\n",
       "      <th>3</th>\n",
       "      <th>4</th>\n",
       "      <th>5</th>\n",
       "      <th>6</th>\n",
       "      <th>7</th>\n",
       "      <th>8</th>\n",
       "      <th>...</th>\n",
       "      <th>7120</th>\n",
       "      <th>7121</th>\n",
       "      <th>7122</th>\n",
       "      <th>7123</th>\n",
       "      <th>7124</th>\n",
       "      <th>7125</th>\n",
       "      <th>7126</th>\n",
       "      <th>7127</th>\n",
       "      <th>7128</th>\n",
       "      <th>cancer</th>\n",
       "    </tr>\n",
       "  </thead>\n",
       "  <tbody>\n",
       "    <tr>\n",
       "      <th>0</th>\n",
       "      <td>1</td>\n",
       "      <td>-214</td>\n",
       "      <td>-153</td>\n",
       "      <td>-58</td>\n",
       "      <td>88</td>\n",
       "      <td>-295</td>\n",
       "      <td>-558</td>\n",
       "      <td>199</td>\n",
       "      <td>-176</td>\n",
       "      <td>252</td>\n",
       "      <td>...</td>\n",
       "      <td>511</td>\n",
       "      <td>-125</td>\n",
       "      <td>389</td>\n",
       "      <td>-37</td>\n",
       "      <td>793</td>\n",
       "      <td>329</td>\n",
       "      <td>36</td>\n",
       "      <td>191</td>\n",
       "      <td>-37</td>\n",
       "      <td>ALL</td>\n",
       "    </tr>\n",
       "    <tr>\n",
       "      <th>1</th>\n",
       "      <td>2</td>\n",
       "      <td>-139</td>\n",
       "      <td>-73</td>\n",
       "      <td>-1</td>\n",
       "      <td>283</td>\n",
       "      <td>-264</td>\n",
       "      <td>-400</td>\n",
       "      <td>-330</td>\n",
       "      <td>-168</td>\n",
       "      <td>101</td>\n",
       "      <td>...</td>\n",
       "      <td>837</td>\n",
       "      <td>-36</td>\n",
       "      <td>442</td>\n",
       "      <td>-17</td>\n",
       "      <td>782</td>\n",
       "      <td>295</td>\n",
       "      <td>11</td>\n",
       "      <td>76</td>\n",
       "      <td>-14</td>\n",
       "      <td>ALL</td>\n",
       "    </tr>\n",
       "    <tr>\n",
       "      <th>2</th>\n",
       "      <td>3</td>\n",
       "      <td>-76</td>\n",
       "      <td>-49</td>\n",
       "      <td>-307</td>\n",
       "      <td>309</td>\n",
       "      <td>-376</td>\n",
       "      <td>-650</td>\n",
       "      <td>33</td>\n",
       "      <td>-367</td>\n",
       "      <td>206</td>\n",
       "      <td>...</td>\n",
       "      <td>1199</td>\n",
       "      <td>33</td>\n",
       "      <td>168</td>\n",
       "      <td>52</td>\n",
       "      <td>1138</td>\n",
       "      <td>777</td>\n",
       "      <td>41</td>\n",
       "      <td>228</td>\n",
       "      <td>-41</td>\n",
       "      <td>ALL</td>\n",
       "    </tr>\n",
       "  </tbody>\n",
       "</table>\n",
       "<p>3 rows × 7131 columns</p>\n",
       "</div>"
      ],
      "text/plain": [
       "   patient_id     0     1     2    3     4     5     6     7    8  ...  7120  \\\n",
       "0           1  -214  -153   -58   88  -295  -558   199  -176  252  ...   511   \n",
       "1           2  -139   -73    -1  283  -264  -400  -330  -168  101  ...   837   \n",
       "2           3   -76   -49  -307  309  -376  -650    33  -367  206  ...  1199   \n",
       "\n",
       "   7121 7122 7123  7124 7125 7126 7127 7128 cancer  \n",
       "0  -125  389  -37   793  329   36  191  -37    ALL  \n",
       "1   -36  442  -17   782  295   11   76  -14    ALL  \n",
       "2    33  168   52  1138  777   41  228  -41    ALL  \n",
       "\n",
       "[3 rows x 7131 columns]"
      ]
     },
     "execution_count": 33,
     "metadata": {},
     "output_type": "execute_result"
    }
   ],
   "source": [
    "df_gene_exp.head(3)"
   ]
  },
  {
   "cell_type": "code",
   "execution_count": 34,
   "id": "ec7e3130",
   "metadata": {},
   "outputs": [
    {
     "data": {
      "text/plain": [
       "False"
      ]
     },
     "execution_count": 34,
     "metadata": {},
     "output_type": "execute_result"
    }
   ],
   "source": [
    "df_gene_exp.isnull().sum().any()"
   ]
  },
  {
   "cell_type": "code",
   "execution_count": 35,
   "id": "217b47b5",
   "metadata": {},
   "outputs": [
    {
     "data": {
      "text/plain": [
       "(72, 7131)"
      ]
     },
     "execution_count": 35,
     "metadata": {},
     "output_type": "execute_result"
    }
   ],
   "source": [
    "df_gene_exp.shape\n"
   ]
  },
  {
   "cell_type": "markdown",
   "id": "f3e90ed2",
   "metadata": {},
   "source": [
    "We can now drop the **patient id** column from this dataset"
   ]
  },
  {
   "cell_type": "code",
   "execution_count": 36,
   "id": "9a44f8f8",
   "metadata": {},
   "outputs": [],
   "source": [
    "df_gene_exp.drop(['patient_id'] , axis=1 , inplace=True)"
   ]
  },
  {
   "cell_type": "markdown",
   "id": "291bc72c",
   "metadata": {},
   "source": [
    "---\n",
    "<a name = Section5></a>\n",
    "# 5. Exploratory Data Analysis \n",
    "---"
   ]
  },
  {
   "cell_type": "markdown",
   "id": "23fefd52",
   "metadata": {},
   "source": [
    "As there are **7130 columns** in the dataset, it is not possible to analyse every column and perform EDA "
   ]
  },
  {
   "cell_type": "markdown",
   "id": "4d9f0a6b",
   "metadata": {},
   "source": [
    "We can perform some analysis on target variable "
   ]
  },
  {
   "cell_type": "code",
   "execution_count": 37,
   "id": "b016fd20",
   "metadata": {},
   "outputs": [
    {
     "data": {
      "text/plain": [
       "ALL    47\n",
       "AML    25\n",
       "Name: cancer, dtype: int64"
      ]
     },
     "execution_count": 37,
     "metadata": {},
     "output_type": "execute_result"
    }
   ],
   "source": [
    "df_gene_exp['cancer'].value_counts()"
   ]
  },
  {
   "cell_type": "code",
   "execution_count": 38,
   "id": "9e6f3210",
   "metadata": {},
   "outputs": [
    {
     "data": {
      "image/png": "[encoded data removed]",
      "text/plain": [
       "<Figure size 720x360 with 1 Axes>"
      ]
     },
     "metadata": {
      "needs_background": "light"
     },
     "output_type": "display_data"
    }
   ],
   "source": [
    "plt.figure(figsize=(10,5))\n",
    "sns.countplot('cancer',data = df_gene_exp, order = df_gene_exp['cancer'].value_counts().index,palette=\"rainbow_r\")\n",
    "plt.title(\"Cancer Classes\")\n",
    "plt.ylabel('Frequency')\n",
    "plt.show()"
   ]
  },
  {
   "cell_type": "markdown",
   "id": "e149c711",
   "metadata": {},
   "source": [
    "The value count of **ALL and AML** and **47 and 25** respectively which shows that dataset is **highly imbalanced**"
   ]
  },
  {
   "cell_type": "markdown",
   "id": "6338d6d4",
   "metadata": {},
   "source": [
    "---\n",
    "<a name = Section6></a>\n",
    "# 6. Data Preparation\n",
    "---"
   ]
  },
  {
   "cell_type": "markdown",
   "id": "ecede36e",
   "metadata": {},
   "source": [
    "## 6.1 Encoding target variable"
   ]
  },
  {
   "cell_type": "markdown",
   "id": "9d70cf76",
   "metadata": {},
   "source": [
    "Encoding the target variable by replacing **ALL to 1 and AML to 0**"
   ]
  },
  {
   "cell_type": "code",
   "execution_count": 39,
   "id": "d3e31c10",
   "metadata": {},
   "outputs": [],
   "source": [
    "df_gene_exp['cancer'].replace({'ALL':1, 'AML':0}, inplace=True)"
   ]
  },
  {
   "cell_type": "code",
   "execution_count": 40,
   "id": "05ed66d4",
   "metadata": {},
   "outputs": [
    {
     "data": {
      "text/html": [
       "<div>\n",
       "<style scoped>\n",
       "    .dataframe tbody tr th:only-of-type {\n",
       "        vertical-align: middle;\n",
       "    }\n",
       "\n",
       "    .dataframe tbody tr th {\n",
       "        vertical-align: top;\n",
       "    }\n",
       "\n",
       "    .dataframe thead th {\n",
       "        text-align: right;\n",
       "    }\n",
       "</style>\n",
       "<table border=\"1\" class=\"dataframe\">\n",
       "  <thead>\n",
       "    <tr style=\"text-align: right;\">\n",
       "      <th></th>\n",
       "      <th>0</th>\n",
       "      <th>1</th>\n",
       "      <th>2</th>\n",
       "      <th>3</th>\n",
       "      <th>4</th>\n",
       "      <th>5</th>\n",
       "      <th>6</th>\n",
       "      <th>7</th>\n",
       "      <th>8</th>\n",
       "      <th>9</th>\n",
       "      <th>...</th>\n",
       "      <th>7120</th>\n",
       "      <th>7121</th>\n",
       "      <th>7122</th>\n",
       "      <th>7123</th>\n",
       "      <th>7124</th>\n",
       "      <th>7125</th>\n",
       "      <th>7126</th>\n",
       "      <th>7127</th>\n",
       "      <th>7128</th>\n",
       "      <th>cancer</th>\n",
       "    </tr>\n",
       "  </thead>\n",
       "  <tbody>\n",
       "    <tr>\n",
       "      <th>0</th>\n",
       "      <td>-214</td>\n",
       "      <td>-153</td>\n",
       "      <td>-58</td>\n",
       "      <td>88</td>\n",
       "      <td>-295</td>\n",
       "      <td>-558</td>\n",
       "      <td>199</td>\n",
       "      <td>-176</td>\n",
       "      <td>252</td>\n",
       "      <td>206</td>\n",
       "      <td>...</td>\n",
       "      <td>511</td>\n",
       "      <td>-125</td>\n",
       "      <td>389</td>\n",
       "      <td>-37</td>\n",
       "      <td>793</td>\n",
       "      <td>329</td>\n",
       "      <td>36</td>\n",
       "      <td>191</td>\n",
       "      <td>-37</td>\n",
       "      <td>1</td>\n",
       "    </tr>\n",
       "    <tr>\n",
       "      <th>1</th>\n",
       "      <td>-139</td>\n",
       "      <td>-73</td>\n",
       "      <td>-1</td>\n",
       "      <td>283</td>\n",
       "      <td>-264</td>\n",
       "      <td>-400</td>\n",
       "      <td>-330</td>\n",
       "      <td>-168</td>\n",
       "      <td>101</td>\n",
       "      <td>74</td>\n",
       "      <td>...</td>\n",
       "      <td>837</td>\n",
       "      <td>-36</td>\n",
       "      <td>442</td>\n",
       "      <td>-17</td>\n",
       "      <td>782</td>\n",
       "      <td>295</td>\n",
       "      <td>11</td>\n",
       "      <td>76</td>\n",
       "      <td>-14</td>\n",
       "      <td>1</td>\n",
       "    </tr>\n",
       "    <tr>\n",
       "      <th>2</th>\n",
       "      <td>-76</td>\n",
       "      <td>-49</td>\n",
       "      <td>-307</td>\n",
       "      <td>309</td>\n",
       "      <td>-376</td>\n",
       "      <td>-650</td>\n",
       "      <td>33</td>\n",
       "      <td>-367</td>\n",
       "      <td>206</td>\n",
       "      <td>-215</td>\n",
       "      <td>...</td>\n",
       "      <td>1199</td>\n",
       "      <td>33</td>\n",
       "      <td>168</td>\n",
       "      <td>52</td>\n",
       "      <td>1138</td>\n",
       "      <td>777</td>\n",
       "      <td>41</td>\n",
       "      <td>228</td>\n",
       "      <td>-41</td>\n",
       "      <td>1</td>\n",
       "    </tr>\n",
       "  </tbody>\n",
       "</table>\n",
       "<p>3 rows × 7130 columns</p>\n",
       "</div>"
      ],
      "text/plain": [
       "      0     1     2    3     4     5     6     7    8     9  ...  7120  7121  \\\n",
       "0  -214  -153   -58   88  -295  -558   199  -176  252   206  ...   511  -125   \n",
       "1  -139   -73    -1  283  -264  -400  -330  -168  101    74  ...   837   -36   \n",
       "2   -76   -49  -307  309  -376  -650    33  -367  206  -215  ...  1199    33   \n",
       "\n",
       "  7122 7123  7124 7125 7126 7127 7128 cancer  \n",
       "0  389  -37   793  329   36  191  -37      1  \n",
       "1  442  -17   782  295   11   76  -14      1  \n",
       "2  168   52  1138  777   41  228  -41      1  \n",
       "\n",
       "[3 rows x 7130 columns]"
      ]
     },
     "execution_count": 40,
     "metadata": {},
     "output_type": "execute_result"
    }
   ],
   "source": [
    "df_gene_exp.head(3)"
   ]
  },
  {
   "cell_type": "markdown",
   "id": "65f8bdb1",
   "metadata": {},
   "source": [
    "## 6.2 Preparing X and y using pandas"
   ]
  },
  {
   "cell_type": "code",
   "execution_count": 41,
   "id": "b41fbb6b",
   "metadata": {},
   "outputs": [
    {
     "data": {
      "text/html": [
       "<div>\n",
       "<style scoped>\n",
       "    .dataframe tbody tr th:only-of-type {\n",
       "        vertical-align: middle;\n",
       "    }\n",
       "\n",
       "    .dataframe tbody tr th {\n",
       "        vertical-align: top;\n",
       "    }\n",
       "\n",
       "    .dataframe thead th {\n",
       "        text-align: right;\n",
       "    }\n",
       "</style>\n",
       "<table border=\"1\" class=\"dataframe\">\n",
       "  <thead>\n",
       "    <tr style=\"text-align: right;\">\n",
       "      <th></th>\n",
       "      <th>0</th>\n",
       "      <th>1</th>\n",
       "      <th>2</th>\n",
       "      <th>3</th>\n",
       "      <th>4</th>\n",
       "      <th>5</th>\n",
       "      <th>6</th>\n",
       "      <th>7</th>\n",
       "      <th>8</th>\n",
       "      <th>9</th>\n",
       "      <th>...</th>\n",
       "      <th>7119</th>\n",
       "      <th>7120</th>\n",
       "      <th>7121</th>\n",
       "      <th>7122</th>\n",
       "      <th>7123</th>\n",
       "      <th>7124</th>\n",
       "      <th>7125</th>\n",
       "      <th>7126</th>\n",
       "      <th>7127</th>\n",
       "      <th>7128</th>\n",
       "    </tr>\n",
       "  </thead>\n",
       "  <tbody>\n",
       "    <tr>\n",
       "      <th>0</th>\n",
       "      <td>-214</td>\n",
       "      <td>-153</td>\n",
       "      <td>-58</td>\n",
       "      <td>88</td>\n",
       "      <td>-295</td>\n",
       "      <td>-558</td>\n",
       "      <td>199</td>\n",
       "      <td>-176</td>\n",
       "      <td>252</td>\n",
       "      <td>206</td>\n",
       "      <td>...</td>\n",
       "      <td>185</td>\n",
       "      <td>511</td>\n",
       "      <td>-125</td>\n",
       "      <td>389</td>\n",
       "      <td>-37</td>\n",
       "      <td>793</td>\n",
       "      <td>329</td>\n",
       "      <td>36</td>\n",
       "      <td>191</td>\n",
       "      <td>-37</td>\n",
       "    </tr>\n",
       "    <tr>\n",
       "      <th>1</th>\n",
       "      <td>-139</td>\n",
       "      <td>-73</td>\n",
       "      <td>-1</td>\n",
       "      <td>283</td>\n",
       "      <td>-264</td>\n",
       "      <td>-400</td>\n",
       "      <td>-330</td>\n",
       "      <td>-168</td>\n",
       "      <td>101</td>\n",
       "      <td>74</td>\n",
       "      <td>...</td>\n",
       "      <td>169</td>\n",
       "      <td>837</td>\n",
       "      <td>-36</td>\n",
       "      <td>442</td>\n",
       "      <td>-17</td>\n",
       "      <td>782</td>\n",
       "      <td>295</td>\n",
       "      <td>11</td>\n",
       "      <td>76</td>\n",
       "      <td>-14</td>\n",
       "    </tr>\n",
       "    <tr>\n",
       "      <th>2</th>\n",
       "      <td>-76</td>\n",
       "      <td>-49</td>\n",
       "      <td>-307</td>\n",
       "      <td>309</td>\n",
       "      <td>-376</td>\n",
       "      <td>-650</td>\n",
       "      <td>33</td>\n",
       "      <td>-367</td>\n",
       "      <td>206</td>\n",
       "      <td>-215</td>\n",
       "      <td>...</td>\n",
       "      <td>315</td>\n",
       "      <td>1199</td>\n",
       "      <td>33</td>\n",
       "      <td>168</td>\n",
       "      <td>52</td>\n",
       "      <td>1138</td>\n",
       "      <td>777</td>\n",
       "      <td>41</td>\n",
       "      <td>228</td>\n",
       "      <td>-41</td>\n",
       "    </tr>\n",
       "    <tr>\n",
       "      <th>3</th>\n",
       "      <td>-135</td>\n",
       "      <td>-114</td>\n",
       "      <td>265</td>\n",
       "      <td>12</td>\n",
       "      <td>-419</td>\n",
       "      <td>-585</td>\n",
       "      <td>158</td>\n",
       "      <td>-253</td>\n",
       "      <td>49</td>\n",
       "      <td>31</td>\n",
       "      <td>...</td>\n",
       "      <td>240</td>\n",
       "      <td>835</td>\n",
       "      <td>218</td>\n",
       "      <td>174</td>\n",
       "      <td>-110</td>\n",
       "      <td>627</td>\n",
       "      <td>170</td>\n",
       "      <td>-50</td>\n",
       "      <td>126</td>\n",
       "      <td>-91</td>\n",
       "    </tr>\n",
       "    <tr>\n",
       "      <th>4</th>\n",
       "      <td>-106</td>\n",
       "      <td>-125</td>\n",
       "      <td>-76</td>\n",
       "      <td>168</td>\n",
       "      <td>-230</td>\n",
       "      <td>-284</td>\n",
       "      <td>4</td>\n",
       "      <td>-122</td>\n",
       "      <td>70</td>\n",
       "      <td>252</td>\n",
       "      <td>...</td>\n",
       "      <td>156</td>\n",
       "      <td>649</td>\n",
       "      <td>57</td>\n",
       "      <td>504</td>\n",
       "      <td>-26</td>\n",
       "      <td>250</td>\n",
       "      <td>314</td>\n",
       "      <td>14</td>\n",
       "      <td>56</td>\n",
       "      <td>-25</td>\n",
       "    </tr>\n",
       "  </tbody>\n",
       "</table>\n",
       "<p>5 rows × 7129 columns</p>\n",
       "</div>"
      ],
      "text/plain": [
       "   0     1     2    3     4     5     6     7    8     9     ... 7119  7120  \\\n",
       "0  -214  -153   -58   88  -295  -558   199  -176  252   206  ...  185   511   \n",
       "1  -139   -73    -1  283  -264  -400  -330  -168  101    74  ...  169   837   \n",
       "2   -76   -49  -307  309  -376  -650    33  -367  206  -215  ...  315  1199   \n",
       "3  -135  -114   265   12  -419  -585   158  -253   49    31  ...  240   835   \n",
       "4  -106  -125   -76  168  -230  -284     4  -122   70   252  ...  156   649   \n",
       "\n",
       "   7121 7122  7123  7124 7125 7126 7127 7128  \n",
       "0  -125  389   -37   793  329   36  191  -37  \n",
       "1   -36  442   -17   782  295   11   76  -14  \n",
       "2    33  168    52  1138  777   41  228  -41  \n",
       "3   218  174  -110   627  170  -50  126  -91  \n",
       "4    57  504   -26   250  314   14   56  -25  \n",
       "\n",
       "[5 rows x 7129 columns]"
      ]
     },
     "execution_count": 41,
     "metadata": {},
     "output_type": "execute_result"
    }
   ],
   "source": [
    "X = df_gene_exp.loc[:, df_gene_exp.columns != 'cancer']\n",
    "X.head()"
   ]
  },
  {
   "cell_type": "code",
   "execution_count": 42,
   "id": "5523b6eb",
   "metadata": {},
   "outputs": [
    {
     "data": {
      "text/plain": [
       "0    1\n",
       "1    1\n",
       "2    1\n",
       "3    1\n",
       "4    1\n",
       "Name: cancer, dtype: int64"
      ]
     },
     "execution_count": 42,
     "metadata": {},
     "output_type": "execute_result"
    }
   ],
   "source": [
    "y = df_gene_exp['cancer']\n",
    "y.head()"
   ]
  },
  {
   "cell_type": "markdown",
   "id": "99d7d3f7",
   "metadata": {},
   "source": [
    "## 6.3 Train Test Split"
   ]
  },
  {
   "cell_type": "code",
   "execution_count": 43,
   "id": "79d8432a",
   "metadata": {},
   "outputs": [
    {
     "name": "stdout",
     "output_type": "stream",
     "text": [
      "(54, 7129)\n",
      "(54,)\n",
      "(18, 7129)\n",
      "(18,)\n"
     ]
    }
   ],
   "source": [
    "X_train, X_test, y_train, y_test = train_test_split(X, y, test_size=0.25, random_state=52, stratify=y)\n",
    "\n",
    "print(X_train.shape)\n",
    "print(y_train.shape)\n",
    "\n",
    "print(X_test.shape)\n",
    "print(y_test.shape)"
   ]
  },
  {
   "cell_type": "markdown",
   "id": "9c044bf3",
   "metadata": {},
   "source": [
    "## 6.4 Feature Scaling"
   ]
  },
  {
   "cell_type": "code",
   "execution_count": 44,
   "id": "d9527736",
   "metadata": {},
   "outputs": [
    {
     "data": {
      "text/plain": [
       "<AxesSubplot:ylabel='Density'>"
      ]
     },
     "execution_count": 44,
     "metadata": {},
     "output_type": "execute_result"
    },
    {
     "data": {
      "image/png": "[encoded data removed]",
      "text/plain": [
       "<Figure size 432x288 with 1 Axes>"
      ]
     },
     "metadata": {
      "needs_background": "light"
     },
     "output_type": "display_data"
    }
   ],
   "source": [
    "#before feature scaling\n",
    "X_train_df = pd.DataFrame(X_train)\n",
    "X_train_df.plot(kind=\"kde\", legend=None)"
   ]
  },
  {
   "cell_type": "code",
   "execution_count": 45,
   "id": "59dd9eb9",
   "metadata": {},
   "outputs": [],
   "source": [
    "sc = StandardScaler()\n",
    "X_train_sc = sc.fit_transform(X_train)\n",
    "X_test_sc = sc.transform (X_test)"
   ]
  },
  {
   "cell_type": "code",
   "execution_count": 46,
   "id": "0cbb63be",
   "metadata": {},
   "outputs": [
    {
     "data": {
      "text/plain": [
       "<AxesSubplot:ylabel='Density'>"
      ]
     },
     "execution_count": 46,
     "metadata": {},
     "output_type": "execute_result"
    },
    {
     "data": {
      "image/png": "[encoded data removed]",
      "text/plain": [
       "<Figure size 432x288 with 1 Axes>"
      ]
     },
     "metadata": {
      "needs_background": "light"
     },
     "output_type": "display_data"
    }
   ],
   "source": [
    "#after feature scaling\n",
    "X_train_sc_df = pd.DataFrame(X_train_sc)\n",
    "X_train_sc_df.plot(kind=\"kde\", legend=None)"
   ]
  },
  {
   "cell_type": "markdown",
   "id": "55903a89",
   "metadata": {},
   "source": [
    "---\n",
    "<a name = Section7></a>\n",
    "# 7. Principle Component Analysis - PCA\n",
    "---"
   ]
  },
  {
   "cell_type": "markdown",
   "id": "bc768188",
   "metadata": {},
   "source": [
    "## 7.1 Dimensionality Reduction\n",
    "\n",
    "- One of the major problems with this dataset is that it has **too many predictors** (almost 7000+).\n",
    "\n",
    "- To go through each of these predictors and see which ones are significant for the model is going to be a **tedious** task.\n",
    "\n",
    "- Instead, we can use a **dimensionality reduction** technique - **Principle Component Analysis**.\n"
   ]
  },
  {
   "cell_type": "markdown",
   "id": "83cb95d2",
   "metadata": {},
   "source": [
    " We are specifying **90% variance** (0.90) to be explained by our PCA model out of a total of 100%"
   ]
  },
  {
   "cell_type": "code",
   "execution_count": 47,
   "id": "64df624b",
   "metadata": {},
   "outputs": [],
   "source": [
    "X_pca_train = PCA(0.90 , random_state=0).fit(X_train_sc)"
   ]
  },
  {
   "cell_type": "markdown",
   "id": "3463fde7",
   "metadata": {},
   "source": [
    "## 7.2 Variance Graph"
   ]
  },
  {
   "cell_type": "markdown",
   "id": "daebf440",
   "metadata": {},
   "source": [
    "- Plotting the variance graph to show the **amount** of **variance explained** with respect to the **number of features**.\n",
    "\n",
    "- We are using `pca.explained_variance_ratio_` to plot the explained variance of our PCA model."
   ]
  },
  {
   "cell_type": "code",
   "execution_count": 48,
   "id": "9869928c",
   "metadata": {},
   "outputs": [],
   "source": [
    "X_var = np.cumsum(np.round(X_pca_train.explained_variance_ratio_, decimals=3) * 100)"
   ]
  },
  {
   "cell_type": "code",
   "execution_count": 49,
   "id": "975680e7",
   "metadata": {},
   "outputs": [
    {
     "data": {
      "text/plain": [
       "<contextlib._GeneratorContextManager at 0x1f8a79ff760>"
      ]
     },
     "execution_count": 49,
     "metadata": {},
     "output_type": "execute_result"
    },
    {
     "data": {
      "image/png": "[encoded data removed]",
      "text/plain": [
       "<Figure size 432x288 with 1 Axes>"
      ]
     },
     "metadata": {
      "needs_background": "light"
     },
     "output_type": "display_data"
    }
   ],
   "source": [
    "plt.plot(X_var)\n",
    "plt.ylabel('% Variance Explained')\n",
    "plt.xlabel('Number of Features')\n",
    "plt.title('PCA Analysis - Train')\n",
    "plt.ylim(30, 100.5)\n",
    "plt.style.context('seaborn-whitegrid')"
   ]
  },
  {
   "cell_type": "code",
   "execution_count": 50,
   "id": "fe573808",
   "metadata": {},
   "outputs": [
    {
     "name": "stdout",
     "output_type": "stream",
     "text": [
      "39 components explain 90% of the variation in data\n"
     ]
    }
   ],
   "source": [
    "print('%d components explain 90%% of the variation in data' % X_pca_train.n_components_)"
   ]
  },
  {
   "cell_type": "markdown",
   "id": "2e8c785a",
   "metadata": {},
   "source": [
    "- We can see that the first __39 Principal Components attribute for about 90% variation__ in the data.\n",
    "\n",
    "- We shall use these 38 out of 7130 for our prediction which is NOT bad \n"
   ]
  },
  {
   "cell_type": "code",
   "execution_count": 51,
   "id": "6c05b4db",
   "metadata": {},
   "outputs": [
    {
     "data": {
      "image/png": "[encoded data removed]",
      "text/plain": [
       "<Figure size 1080x720 with 1 Axes>"
      ]
     },
     "metadata": {
      "needs_background": "light"
     },
     "output_type": "display_data"
    }
   ],
   "source": [
    "# details on variance or information on how it gets distributed between each component, viewing it with help of bar plots\n",
    "df = pd.DataFrame({'variance explained':X_pca_train.explained_variance_ratio_,\n",
    "             'Principal Component':['PC1','PC2','PC3','PC4','PC5','PC6','PC7','PC8','PC9','PC10','PC11','PC12','PC13',\n",
    "                                   'PC14','PC15','PC16','PC17','PC18','PC19','PC20','PC21','PC22','PC23','PC24','PC25','PC26',\n",
    "                                   'PC27','PC28','PC29','PC30','PC31','PC32','PC33','PC34','PC35','PC36','PC37','PC38','PC39']})\n",
    "plt.figure(figsize=(15,10))\n",
    "sns.barplot(x='Principal Component',y=\"variance explained\", data=df, color=\"c\");"
   ]
  },
  {
   "cell_type": "markdown",
   "id": "081b3adf",
   "metadata": {},
   "source": [
    "## 7.3 Visualizing PCA"
   ]
  },
  {
   "cell_type": "code",
   "execution_count": 52,
   "id": "79de00d1",
   "metadata": {},
   "outputs": [
    {
     "data": {
      "text/html": [
       "<div>\n",
       "<style scoped>\n",
       "    .dataframe tbody tr th:only-of-type {\n",
       "        vertical-align: middle;\n",
       "    }\n",
       "\n",
       "    .dataframe tbody tr th {\n",
       "        vertical-align: top;\n",
       "    }\n",
       "\n",
       "    .dataframe thead th {\n",
       "        text-align: right;\n",
       "    }\n",
       "</style>\n",
       "<table border=\"1\" class=\"dataframe\">\n",
       "  <thead>\n",
       "    <tr style=\"text-align: right;\">\n",
       "      <th></th>\n",
       "      <th>PC1</th>\n",
       "      <th>PC2</th>\n",
       "    </tr>\n",
       "  </thead>\n",
       "  <tbody>\n",
       "    <tr>\n",
       "      <th>0</th>\n",
       "      <td>-12371.342324</td>\n",
       "      <td>-16505.718775</td>\n",
       "    </tr>\n",
       "    <tr>\n",
       "      <th>1</th>\n",
       "      <td>-37565.867256</td>\n",
       "      <td>57.630663</td>\n",
       "    </tr>\n",
       "    <tr>\n",
       "      <th>2</th>\n",
       "      <td>-19116.366314</td>\n",
       "      <td>-18216.306299</td>\n",
       "    </tr>\n",
       "    <tr>\n",
       "      <th>3</th>\n",
       "      <td>-8712.904153</td>\n",
       "      <td>-17386.581281</td>\n",
       "    </tr>\n",
       "    <tr>\n",
       "      <th>4</th>\n",
       "      <td>-29690.895016</td>\n",
       "      <td>-12205.173864</td>\n",
       "    </tr>\n",
       "  </tbody>\n",
       "</table>\n",
       "</div>"
      ],
      "text/plain": [
       "            PC1           PC2\n",
       "0 -12371.342324 -16505.718775\n",
       "1 -37565.867256     57.630663\n",
       "2 -19116.366314 -18216.306299\n",
       "3  -8712.904153 -17386.581281\n",
       "4 -29690.895016 -12205.173864"
      ]
     },
     "execution_count": 52,
     "metadata": {},
     "output_type": "execute_result"
    }
   ],
   "source": [
    "pca = PCA(n_components=2)\n",
    "principalComponents = pca.fit_transform(X)\n",
    "PC_df = pd.DataFrame(data = principalComponents\n",
    "             , columns = ['PC1', 'PC2'])\n",
    "PC_df.head()"
   ]
  },
  {
   "cell_type": "code",
   "execution_count": 53,
   "id": "c91ef659",
   "metadata": {},
   "outputs": [
    {
     "data": {
      "text/html": [
       "<div>\n",
       "<style scoped>\n",
       "    .dataframe tbody tr th:only-of-type {\n",
       "        vertical-align: middle;\n",
       "    }\n",
       "\n",
       "    .dataframe tbody tr th {\n",
       "        vertical-align: top;\n",
       "    }\n",
       "\n",
       "    .dataframe thead th {\n",
       "        text-align: right;\n",
       "    }\n",
       "</style>\n",
       "<table border=\"1\" class=\"dataframe\">\n",
       "  <thead>\n",
       "    <tr style=\"text-align: right;\">\n",
       "      <th></th>\n",
       "      <th>PC1</th>\n",
       "      <th>PC2</th>\n",
       "      <th>cancer</th>\n",
       "    </tr>\n",
       "  </thead>\n",
       "  <tbody>\n",
       "    <tr>\n",
       "      <th>0</th>\n",
       "      <td>-12371.342324</td>\n",
       "      <td>-16505.718775</td>\n",
       "      <td>1</td>\n",
       "    </tr>\n",
       "    <tr>\n",
       "      <th>1</th>\n",
       "      <td>-37565.867256</td>\n",
       "      <td>57.630663</td>\n",
       "      <td>1</td>\n",
       "    </tr>\n",
       "    <tr>\n",
       "      <th>2</th>\n",
       "      <td>-19116.366314</td>\n",
       "      <td>-18216.306299</td>\n",
       "      <td>1</td>\n",
       "    </tr>\n",
       "    <tr>\n",
       "      <th>3</th>\n",
       "      <td>-8712.904153</td>\n",
       "      <td>-17386.581281</td>\n",
       "      <td>1</td>\n",
       "    </tr>\n",
       "    <tr>\n",
       "      <th>4</th>\n",
       "      <td>-29690.895016</td>\n",
       "      <td>-12205.173864</td>\n",
       "      <td>1</td>\n",
       "    </tr>\n",
       "  </tbody>\n",
       "</table>\n",
       "</div>"
      ],
      "text/plain": [
       "            PC1           PC2  cancer\n",
       "0 -12371.342324 -16505.718775       1\n",
       "1 -37565.867256     57.630663       1\n",
       "2 -19116.366314 -18216.306299       1\n",
       "3  -8712.904153 -17386.581281       1\n",
       "4 -29690.895016 -12205.173864       1"
      ]
     },
     "execution_count": 53,
     "metadata": {},
     "output_type": "execute_result"
    }
   ],
   "source": [
    "data_viz_Df = pd.concat([PC_df, df_gene_exp['cancer']], axis = 1)\n",
    "data_viz_Df.head()"
   ]
  },
  {
   "cell_type": "code",
   "execution_count": 54,
   "id": "e28b6c5a",
   "metadata": {},
   "outputs": [
    {
     "data": {
      "image/png": "[encoded data removed]",
      "text/plain": [
       "<Figure size 576x576 with 1 Axes>"
      ]
     },
     "metadata": {
      "needs_background": "light"
     },
     "output_type": "display_data"
    }
   ],
   "source": [
    "fig = plt.figure(figsize = (8,8))\n",
    "ax = fig.add_subplot(1,1,1) \n",
    "ax.set_xlabel('Principal Component 1 (PC1)', fontsize = 15)\n",
    "ax.set_ylabel('Principal Component 2 (PC2)', fontsize = 15)\n",
    "ax.set_title('2 Component PCA', fontsize = 20)\n",
    "targets = [0,1]\n",
    "colors = ['r', 'g', 'b']\n",
    "for target, color in zip(targets,colors):\n",
    "    indicesToKeep = data_viz_Df['cancer'] == target\n",
    "    ax.scatter(data_viz_Df.loc[indicesToKeep, 'PC1']\n",
    "               , data_viz_Df.loc[indicesToKeep, 'PC2']\n",
    "               , c = color\n",
    "               , s = 50)\n",
    "ax.legend(targets)\n",
    "ax.grid()"
   ]
  },
  {
   "cell_type": "markdown",
   "id": "53e86262",
   "metadata": {},
   "source": [
    "## 7.4  Building a **new** PCA model."
   ]
  },
  {
   "cell_type": "markdown",
   "id": "5f36f64f",
   "metadata": {},
   "source": [
    "- We are specifying `n_components` equal to **38**.\n",
    "\n",
    "  - This will allow our model to only use the **first 38 Principal Components** only.\n",
    "\n",
    "- We are then transforming the dataset using our PCA model."
   ]
  },
  {
   "cell_type": "code",
   "execution_count": 55,
   "id": "a2d9f29f",
   "metadata": {},
   "outputs": [
    {
     "name": "stdout",
     "output_type": "stream",
     "text": [
      "(54, 39)\n",
      "(18, 39)\n"
     ]
    }
   ],
   "source": [
    "pca = PCA(n_components=X_pca_train.n_components_, random_state=55)\n",
    "pca.fit(X_train_sc)\n",
    "X_pca_train= pca.transform(X_train_sc)\n",
    "X_pca_test= pca.transform(X_test_sc)\n",
    "print(X_pca_train.shape)\n",
    "print(X_pca_test.shape)"
   ]
  },
  {
   "cell_type": "markdown",
   "id": "64ad752d",
   "metadata": {},
   "source": [
    "Confirming the claim: PCA gives us output where Multicollinearity is eliminated"
   ]
  },
  {
   "cell_type": "code",
   "execution_count": 56,
   "id": "57d9a970",
   "metadata": {},
   "outputs": [
    {
     "data": {
      "image/png": "[encoded data removed]",
      "text/plain": [
       "<Figure size 1800x1080 with 2 Axes>"
      ]
     },
     "metadata": {
      "needs_background": "light"
     },
     "output_type": "display_data"
    }
   ],
   "source": [
    "X_df_pca_train=pd.DataFrame(X_pca_train)\n",
    "plt.figure(figsize = (25, 15))\n",
    "sns.heatmap(X_df_pca_train.corr(), annot = True, cmap=\"YlGnBu\")\n",
    "plt.show()"
   ]
  },
  {
   "cell_type": "markdown",
   "id": "29697702",
   "metadata": {},
   "source": [
    "The above output has numbers that show correlation coef's as close to 0"
   ]
  },
  {
   "cell_type": "markdown",
   "id": "cbfda651",
   "metadata": {},
   "source": [
    "---\n",
    "<a name = Section8></a>\n",
    "# 8. SMOTE Technique\n",
    "---"
   ]
  },
  {
   "cell_type": "code",
   "execution_count": 57,
   "id": "d983d35b",
   "metadata": {},
   "outputs": [
    {
     "name": "stdout",
     "output_type": "stream",
     "text": [
      "Before Upsampling train and test:-\n",
      "Counter({1: 35, 0: 19})\n",
      "Counter({1: 12, 0: 6})\n",
      "After Upsampling train and test:-\n",
      "Counter({1: 35, 0: 35})\n",
      "Counter({1: 12, 0: 12})\n"
     ]
    }
   ],
   "source": [
    "print(\"Before Upsampling train and test:-\")\n",
    "print(Counter(y_train))\n",
    "print(Counter(y_test))\n",
    "\n",
    "# Let's use SMOTE to oversample\n",
    "\n",
    "oversample = SMOTE()\n",
    "X_smote_train, y_smote_train = oversample.fit_resample(X_pca_train,y_train)\n",
    "X_smote_test, y_smote_test = oversample.fit_resample(X_pca_test,y_test)\n",
    "print(\"After Upsampling train and test:-\")\n",
    "print(Counter(y_smote_train))\n",
    "print(Counter(y_smote_test))"
   ]
  },
  {
   "cell_type": "code",
   "execution_count": 58,
   "id": "7040615c",
   "metadata": {},
   "outputs": [
    {
     "name": "stdout",
     "output_type": "stream",
     "text": [
      "(70, 39)\n",
      "(24, 39)\n",
      "(70,)\n",
      "(24,)\n"
     ]
    }
   ],
   "source": [
    "print(X_smote_train.shape )\n",
    "print(X_smote_test.shape )\n",
    "print(y_smote_train.shape )\n",
    "print(y_smote_test.shape )"
   ]
  },
  {
   "cell_type": "markdown",
   "id": "184ca2b9",
   "metadata": {},
   "source": [
    "---\n",
    "<a name = Section9></a>\n",
    "# 9. Model Building\n",
    "---"
   ]
  },
  {
   "cell_type": "markdown",
   "id": "4f7bf773",
   "metadata": {},
   "source": [
    "We are going to use the clasification algorithm for model building. "
   ]
  },
  {
   "cell_type": "markdown",
   "id": "a0c56192",
   "metadata": {},
   "source": [
    "Create functions to fit, predict and measure the performance of the classification models "
   ]
  },
  {
   "cell_type": "markdown",
   "id": "1fd7b7ce",
   "metadata": {},
   "source": [
    "Initialize dataframe to hold and compare the performance metrics of the models created"
   ]
  },
  {
   "cell_type": "code",
   "execution_count": 59,
   "id": "63b18297",
   "metadata": {},
   "outputs": [],
   "source": [
    "df_model=pd.DataFrame(columns=['Model','Accuracy Score' ,'F1 Score', 'Precision Score' , 'Recall Score' ,'ROC AUC'])\n",
    "df_model_performance =df_model\n",
    "df_model_test_train_acc = pd.DataFrame(columns=['Model' , 'Train Accuracy Score' ,'Test Accuracy Score'])\n",
    "df_model_accuracy =df_model_test_train_acc"
   ]
  },
  {
   "cell_type": "markdown",
   "id": "9439af75",
   "metadata": {},
   "source": [
    "Function to fit and predict the model "
   ]
  },
  {
   "cell_type": "code",
   "execution_count": 60,
   "id": "2e0a15b3",
   "metadata": {},
   "outputs": [],
   "source": [
    "def get_classifier_predictions(classifier, X_train, y_train, X_test):  \n",
    "    classifier = classifier\n",
    "    classifier.fit(X_train,y_train)\n",
    "    y_pred_train =classifier.predict(X_train)\n",
    "    y_pred_test = classifier.predict(X_test)\n",
    "    y_pred_prob_train = classifier.predict_proba(X_train)\n",
    "    y_pred_prob_test = classifier.predict_proba(X_test)\n",
    "    return y_pred_train, y_pred_test, y_pred_prob_train,y_pred_prob_test"
   ]
  },
  {
   "cell_type": "markdown",
   "id": "fde66f24",
   "metadata": {},
   "source": [
    "Function to obtain the best parameters from Grid Search CV "
   ]
  },
  {
   "cell_type": "code",
   "execution_count": 61,
   "id": "3b382b73",
   "metadata": {},
   "outputs": [],
   "source": [
    "def get_best_hyperparameters():    \n",
    "    print(\"Best Accuracy    :\",  search.best_score_) \n",
    "    print(\"Best Parameters  : \", search.best_params_)\n",
    "    print(\"Best Estimators : \",  search.best_estimator_)  \n",
    "    best_grid = search.best_estimator_\n",
    "    return best_grid"
   ]
  },
  {
   "cell_type": "markdown",
   "id": "3d9a766e",
   "metadata": {},
   "source": [
    "Function to get the performance metrics of the classification models"
   ]
  },
  {
   "cell_type": "code",
   "execution_count": 62,
   "id": "a33fd8ec",
   "metadata": {},
   "outputs": [],
   "source": [
    "def print_classifier_scores(classifier, X_train, X_test, y_train ,y_test,y_pred_train, y_pred_test,y_pred_prob_train, y_pred_prob_test,algorithm):\n",
    "    v_recall_score_train =  recall_score(y_train,y_pred_train)\n",
    "    v_precision_score_train = precision_score(y_train,y_pred_train)\n",
    "    v_f1_score_train =  f1_score(y_train,y_pred_train)\n",
    "    v_accuracy_score_train = accuracy_score(y_train,y_pred_train)\n",
    "    v_roc_auc_train = roc_auc_score(y_train, y_pred_prob_train[:,1])\n",
    "    \n",
    "    print('Train-Set Confusion Matrix:\\n', confusion_matrix(y_train,y_pred_train)) \n",
    "    print(\"Recall Score    : \", v_recall_score_train)\n",
    "    print(\"Precision Score : \", v_precision_score_train)\n",
    "    print(\"F1 Score        : \", v_f1_score_train)\n",
    "    print(\"Accuracy Score  : \", v_accuracy_score_train)\n",
    "    print(\"ROC AUC         :  {}\".format(v_roc_auc_train))\n",
    "    plot_confusion_matrix(classifier, X_train , y_train , display_labels = [\"ALL\" , \"ALM\"])\n",
    "    plt.grid(b=None)\n",
    "    \n",
    "    v_recall_score_test =  recall_score(y_test,y_pred_test)\n",
    "    v_precision_score_test = precision_score(y_test,y_pred_test)\n",
    "    v_f1_score_test =  f1_score(y_test,y_pred_test)\n",
    "    v_accuracy_score_test = accuracy_score(y_test,y_pred_test)\n",
    "    v_roc_auc_test = roc_auc_score(y_test, y_pred_prob_test[:,1])\n",
    "    \n",
    "    print('Test-Set Confusion Matrix:\\n', confusion_matrix(y_test,y_pred_test)) \n",
    "    print(\"Recall Score    : \", v_recall_score_test)\n",
    "    print(\"Precision Score : \", v_precision_score_test)\n",
    "    print(\"F1 Score        : \", v_f1_score_test)\n",
    "    print(\"Accuracy Score  : \", v_accuracy_score_test)\n",
    "    print(\"ROC AUC         :  {}\".format(v_roc_auc_test))\n",
    "    plot_confusion_matrix(classifier, X_test , y_test , display_labels = [\"ALL\" , \"ALM\"])\n",
    "    plt.grid(b=None)\n",
    "    \n",
    "    df_model_test_train_acc = dict({'Model' : algorithm, 'Train Accuracy Score' :v_accuracy_score_train,'Test Accuracy Score' :v_accuracy_score_test })\n",
    "    df_model_performance = dict({'Model' : algorithm, 'Accuracy Score' :v_accuracy_score_test, 'F1 Score' : v_f1_score_test, 'Precision Score' : v_precision_score_test, 'Recall Score' :v_recall_score_test, 'ROC AUC' : v_roc_auc_test})\n",
    "    \n",
    "    return df_model_test_train_acc , df_model_performance"
   ]
  },
  {
   "cell_type": "code",
   "execution_count": null,
   "id": "a09c16e8",
   "metadata": {},
   "outputs": [],
   "source": []
  },
  {
   "cell_type": "markdown",
   "id": "fa97fd9a",
   "metadata": {},
   "source": [
    "## 9.1.  Logistic Regression - Model 1"
   ]
  },
  {
   "cell_type": "markdown",
   "id": "019b74d6",
   "metadata": {},
   "source": [
    "Prediction of Cancer type using **Logistic Regression** and hyperparameter tuning by using Grid Search CV"
   ]
  },
  {
   "cell_type": "code",
   "execution_count": 63,
   "id": "96b4abd7",
   "metadata": {},
   "outputs": [
    {
     "name": "stdout",
     "output_type": "stream",
     "text": [
      "Fitting 5 folds for each of 200 candidates, totalling 1000 fits\n"
     ]
    },
    {
     "data": {
      "text/plain": [
       "GridSearchCV(cv=StratifiedKFold(n_splits=5, random_state=None, shuffle=True),\n",
       "             estimator=LogisticRegression(), n_jobs=-1,\n",
       "             param_grid={'C': array([  0.1       ,   0.10722672,   0.1149757 ,   0.12328467,\n",
       "         0.13219411,   0.14174742,   0.15199111,   0.16297508,\n",
       "         0.17475284,   0.18738174,   0.2009233 ,   0.21544347,\n",
       "         0.23101297,   0.24770764,   0.26560878,   0.28480359,\n",
       "         0.30538555,   0.32745492,   0.35111917,   0.37649358,...\n",
       "        20.09233003,  21.5443469 ,  23.101297  ,  24.77076356,\n",
       "        26.56087783,  28.48035868,  30.53855509,  32.74549163,\n",
       "        35.11191734,  37.64935807,  40.37017259,  43.28761281,\n",
       "        46.41588834,  49.77023564,  53.36699231,  57.22367659,\n",
       "        61.35907273,  65.79332247,  70.54802311,  75.64633276,\n",
       "        81.11308308,  86.97490026,  93.26033469, 100.        ]),\n",
       "                         'penalty': ['l2'], 'random_state': [42, 99],\n",
       "                         'solver': ['liblinear']},\n",
       "             verbose=1)"
      ]
     },
     "execution_count": 63,
     "metadata": {},
     "output_type": "execute_result"
    }
   ],
   "source": [
    "logreg_params = {'penalty' : ['l2'],\n",
    "                 'C' : np.logspace(-1, 2, 100),\n",
    "                 'solver' :['liblinear'],\n",
    "                 'random_state' :[42,99]\n",
    "                 }\n",
    "cross_validation = StratifiedKFold(n_splits=5,shuffle=True)\n",
    "\n",
    "search = GridSearchCV(estimator=LogisticRegression(), param_grid=logreg_params, n_jobs=-1, verbose=1,cv=cross_validation )\n",
    "search.fit(X_smote_train, y_smote_train)"
   ]
  },
  {
   "cell_type": "code",
   "execution_count": 64,
   "id": "19d8700a",
   "metadata": {},
   "outputs": [
    {
     "name": "stdout",
     "output_type": "stream",
     "text": [
      "Best Accuracy    : 0.9571428571428571\n",
      "Best Parameters  :  {'C': 0.17475284000076838, 'penalty': 'l2', 'random_state': 42, 'solver': 'liblinear'}\n",
      "Best Estimators :  LogisticRegression(C=0.17475284000076838, random_state=42, solver='liblinear')\n"
     ]
    }
   ],
   "source": [
    "lr_best_grid= get_best_hyperparameters()"
   ]
  },
  {
   "cell_type": "code",
   "execution_count": 65,
   "id": "ab7aef1e",
   "metadata": {},
   "outputs": [
    {
     "name": "stdout",
     "output_type": "stream",
     "text": [
      "Train-Set Confusion Matrix:\n",
      " [[35  0]\n",
      " [ 0 35]]\n",
      "Recall Score    :  1.0\n",
      "Precision Score :  1.0\n",
      "F1 Score        :  1.0\n",
      "Accuracy Score  :  1.0\n",
      "ROC AUC         :  1.0\n",
      "Test-Set Confusion Matrix:\n",
      " [[11  1]\n",
      " [ 0 12]]\n",
      "Recall Score    :  1.0\n",
      "Precision Score :  0.9230769230769231\n",
      "F1 Score        :  0.9600000000000001\n",
      "Accuracy Score  :  0.9583333333333334\n",
      "ROC AUC         :  0.986111111111111\n"
     ]
    },
    {
     "data": {
      "image/png": "[encoded data removed]",
      "text/plain": [
       "<Figure size 432x288 with 2 Axes>"
      ]
     },
     "metadata": {
      "needs_background": "light"
     },
     "output_type": "display_data"
    },
    {
     "data": {
      "image/png": "[encoded data removed]",
      "text/plain": [
       "<Figure size 432x288 with 2 Axes>"
      ]
     },
     "metadata": {
      "needs_background": "light"
     },
     "output_type": "display_data"
    }
   ],
   "source": [
    "y_pred_train, y_pred_test, y_pred_prob_train, y_pred_prob_test = get_classifier_predictions(lr_best_grid, X_smote_train, y_smote_train, X_smote_test )\n",
    "df_model_test_train_acc1 , df_model_performance1=print_classifier_scores(lr_best_grid, X_smote_train, X_smote_test, y_smote_train , y_smote_test, y_pred_train, y_pred_test, y_pred_prob_train, y_pred_prob_test , 'Logistic Regression'  )\n",
    "df_model=df_model.append(df_model_performance1,ignore_index=True )\n",
    "df_model_test_train_acc= df_model_test_train_acc.append(df_model_test_train_acc1, ignore_index=True)"
   ]
  },
  {
   "cell_type": "markdown",
   "id": "fe1a8b60",
   "metadata": {},
   "source": [
    "## 9.2.  Naive Bayes - Model 2"
   ]
  },
  {
   "cell_type": "markdown",
   "id": "25fe7f8c",
   "metadata": {},
   "source": [
    "Prediction of Cancer type using **Naive Bayes** "
   ]
  },
  {
   "cell_type": "code",
   "execution_count": 66,
   "id": "e1466e62",
   "metadata": {},
   "outputs": [
    {
     "name": "stdout",
     "output_type": "stream",
     "text": [
      "Train-Set Confusion Matrix:\n",
      " [[35  0]\n",
      " [ 4 31]]\n",
      "Recall Score    :  0.8857142857142857\n",
      "Precision Score :  1.0\n",
      "F1 Score        :  0.9393939393939393\n",
      "Accuracy Score  :  0.9428571428571428\n",
      "ROC AUC         :  0.9975510204081632\n",
      "Test-Set Confusion Matrix:\n",
      " [[11  1]\n",
      " [ 3  9]]\n",
      "Recall Score    :  0.75\n",
      "Precision Score :  0.9\n",
      "F1 Score        :  0.8181818181818182\n",
      "Accuracy Score  :  0.8333333333333334\n",
      "ROC AUC         :  0.9791666666666666\n"
     ]
    },
    {
     "data": {
      "image/png": "[encoded data removed]",
      "text/plain": [
       "<Figure size 432x288 with 2 Axes>"
      ]
     },
     "metadata": {
      "needs_background": "light"
     },
     "output_type": "display_data"
    },
    {
     "data": {
      "image/png": "[encoded data removed]",
      "text/plain": [
       "<Figure size 432x288 with 2 Axes>"
      ]
     },
     "metadata": {
      "needs_background": "light"
     },
     "output_type": "display_data"
    }
   ],
   "source": [
    "naivebayes = GaussianNB() \n",
    "y_pred_train, y_pred_test, y_pred_prob_train, y_pred_prob_test = get_classifier_predictions(naivebayes, X_smote_train, y_smote_train, X_smote_test )\n",
    "df_model_test_train_acc2 , df_model_performance2=print_classifier_scores(naivebayes, X_smote_train, X_smote_test, y_smote_train , y_smote_test, y_pred_train, y_pred_test, y_pred_prob_train, y_pred_prob_test , 'Naive Bayes'  )\n",
    "df_model=df_model.append(df_model_performance2,ignore_index=True )\n",
    "df_model_test_train_acc= df_model_test_train_acc.append(df_model_test_train_acc2, ignore_index=True)"
   ]
  },
  {
   "cell_type": "markdown",
   "id": "1815760b",
   "metadata": {},
   "source": [
    "## 9.3   Decision Tree Classifier - Model 3"
   ]
  },
  {
   "cell_type": "markdown",
   "id": "c6984086",
   "metadata": {},
   "source": [
    "Prediction of Cancer type using **Decision Tree Classifier** and hyperparameter tuning by using Grid Search CV"
   ]
  },
  {
   "cell_type": "code",
   "execution_count": 67,
   "id": "312a2230",
   "metadata": {},
   "outputs": [
    {
     "name": "stdout",
     "output_type": "stream",
     "text": [
      "Fitting 5 folds for each of 196000 candidates, totalling 980000 fits\n"
     ]
    },
    {
     "data": {
      "text/plain": [
       "GridSearchCV(cv=StratifiedKFold(n_splits=5, random_state=None, shuffle=True),\n",
       "             estimator=DecisionTreeClassifier(), n_jobs=-1,\n",
       "             param_grid={'max_depth': [3, 4, 5, 6, 7],\n",
       "                         'max_features': array([0.1, 0.2, 0.3, 0.4, 0.5]),\n",
       "                         'max_leaf_nodes': [2, 3, 4, 5, 6, 7, 8, 9, 10, 11, 12,\n",
       "                                            13, 14, 15, 16, 17, 18, 19, 20, 21,\n",
       "                                            22, 23, 24, 25, 26, 27, 28, 29, 30,\n",
       "                                            31, ...],\n",
       "                         'min_samples_leaf': [1, 2, 3, 4, 5],\n",
       "                         'min_samples_split': [1, 2],\n",
       "                         'random_state': [0, 1, 2, 3, 4, 5, 42, 99]},\n",
       "             verbose=1)"
      ]
     },
     "execution_count": 67,
     "metadata": {},
     "output_type": "execute_result"
    }
   ],
   "source": [
    "dt_params = {'max_depth' :  [i for i in range(3,8,1)],\n",
    "             'max_features': np.linspace(0.1, 0.5, 5, endpoint=True),\n",
    "             'min_samples_leaf':  [i for i in range(1,6,1)],\n",
    "             'min_samples_split':[i for i in range(1,3,1)],\n",
    "             'max_leaf_nodes': list(range(2, 100)),\n",
    "             'random_state' :[0,1,2 ,3, 4,5,42,99]\n",
    "                 }\n",
    "cross_validation = StratifiedKFold(n_splits=5,shuffle=True)\n",
    "search = GridSearchCV(DecisionTreeClassifier(), dt_params, n_jobs=-1, verbose=1,cv=cross_validation )\n",
    "search.fit(X_smote_train, y_smote_train)"
   ]
  },
  {
   "cell_type": "code",
   "execution_count": 68,
   "id": "e180296d",
   "metadata": {},
   "outputs": [
    {
     "name": "stdout",
     "output_type": "stream",
     "text": [
      "Best Accuracy    : 0.8714285714285713\n",
      "Best Parameters  :  {'max_depth': 5, 'max_features': 0.4, 'max_leaf_nodes': 6, 'min_samples_leaf': 3, 'min_samples_split': 2, 'random_state': 2}\n",
      "Best Estimators :  DecisionTreeClassifier(max_depth=5, max_features=0.4, max_leaf_nodes=6,\n",
      "                       min_samples_leaf=3, random_state=2)\n"
     ]
    }
   ],
   "source": [
    "dt_best_grid=get_best_hyperparameters()"
   ]
  },
  {
   "cell_type": "code",
   "execution_count": 69,
   "id": "cdbfd5f1",
   "metadata": {},
   "outputs": [
    {
     "name": "stdout",
     "output_type": "stream",
     "text": [
      "Train-Set Confusion Matrix:\n",
      " [[32  3]\n",
      " [ 1 34]]\n",
      "Recall Score    :  0.9714285714285714\n",
      "Precision Score :  0.918918918918919\n",
      "F1 Score        :  0.9444444444444445\n",
      "Accuracy Score  :  0.9428571428571428\n",
      "ROC AUC         :  0.9857142857142858\n",
      "Test-Set Confusion Matrix:\n",
      " [[7 5]\n",
      " [3 9]]\n",
      "Recall Score    :  0.75\n",
      "Precision Score :  0.6428571428571429\n",
      "F1 Score        :  0.6923076923076924\n",
      "Accuracy Score  :  0.6666666666666666\n",
      "ROC AUC         :  0.704861111111111\n"
     ]
    },
    {
     "data": {
      "image/png": "[encoded data removed]",
      "text/plain": [
       "<Figure size 432x288 with 2 Axes>"
      ]
     },
     "metadata": {
      "needs_background": "light"
     },
     "output_type": "display_data"
    },
    {
     "data": {
      "image/png": "[encoded data removed]",
      "text/plain": [
       "<Figure size 432x288 with 2 Axes>"
      ]
     },
     "metadata": {
      "needs_background": "light"
     },
     "output_type": "display_data"
    }
   ],
   "source": [
    "y_pred_train, y_pred_test, y_pred_prob_train, y_pred_prob_test = get_classifier_predictions(dt_best_grid, X_smote_train, y_smote_train, X_smote_test )\n",
    "df_model_test_train_acc3, df_model_performance3=print_classifier_scores(dt_best_grid, X_smote_train, X_smote_test, y_smote_train , y_smote_test, y_pred_train, y_pred_test, y_pred_prob_train, y_pred_prob_test , 'Decision Tree Classifier'  )\n",
    "df_model=df_model.append(df_model_performance3,ignore_index=True )\n",
    "df_model_test_train_acc= df_model_test_train_acc.append(df_model_test_train_acc3, ignore_index=True)"
   ]
  },
  {
   "cell_type": "markdown",
   "id": "710e3145",
   "metadata": {},
   "source": [
    "## 9.4. Random Forest Classifier - Model 4"
   ]
  },
  {
   "cell_type": "markdown",
   "id": "7301a709",
   "metadata": {},
   "source": [
    "Prediction of Cancer type using **Random Forest Classifier** and hyperparameter tuning by using Grid Search CV"
   ]
  },
  {
   "cell_type": "code",
   "execution_count": 70,
   "id": "99ca8552",
   "metadata": {},
   "outputs": [
    {
     "name": "stdout",
     "output_type": "stream",
     "text": [
      "Fitting 5 folds for each of 7200 candidates, totalling 36000 fits\n"
     ]
    },
    {
     "data": {
      "text/plain": [
       "GridSearchCV(cv=StratifiedKFold(n_splits=5, random_state=None, shuffle=True),\n",
       "             estimator=RandomForestClassifier(), n_jobs=-1,\n",
       "             param_grid={'bootstrap': [False, True],\n",
       "                         'max_features': array([0.1, 0.2, 0.3, 0.4, 0.5]),\n",
       "                         'min_samples_leaf': [1, 2, 3, 4, 5],\n",
       "                         'min_samples_split': [1, 2],\n",
       "                         'n_estimators': [1, 2, 4, 8, 16, 32, 64, 100, 200],\n",
       "                         'random_state': [0, 1, 2, 3, 4, 5, 42, 99]},\n",
       "             verbose=1)"
      ]
     },
     "execution_count": 70,
     "metadata": {},
     "output_type": "execute_result"
    }
   ],
   "source": [
    "rf_params = {'bootstrap': [False, True],\n",
    "         'n_estimators': [1, 2, 4, 8, 16, 32, 64, 100, 200],\n",
    "         'max_features': np.linspace(0.1, 0.5, 5, endpoint=True),\n",
    "         'min_samples_leaf':  [i for i in range(1,6,1)],\n",
    "         'min_samples_split':[i for i in range(1,3,1)],\n",
    "        'random_state' :[0,1,2 ,3, 4,5,42,99]\n",
    "                 }\n",
    "cross_validation = StratifiedKFold(n_splits=5,shuffle=True)\n",
    "search = GridSearchCV(RandomForestClassifier(), rf_params, n_jobs=-1, verbose=1,cv=cross_validation )\n",
    "search.fit(X_smote_train, y_smote_train)\n"
   ]
  },
  {
   "cell_type": "code",
   "execution_count": 71,
   "id": "490d867f",
   "metadata": {},
   "outputs": [
    {
     "name": "stdout",
     "output_type": "stream",
     "text": [
      "Best Accuracy    : 0.8714285714285716\n",
      "Best Parameters  :  {'bootstrap': True, 'max_features': 0.4, 'min_samples_leaf': 2, 'min_samples_split': 2, 'n_estimators': 4, 'random_state': 0}\n",
      "Best Estimators :  RandomForestClassifier(max_features=0.4, min_samples_leaf=2, n_estimators=4,\n",
      "                       random_state=0)\n"
     ]
    }
   ],
   "source": [
    "rf_best_grid=get_best_hyperparameters()"
   ]
  },
  {
   "cell_type": "code",
   "execution_count": 72,
   "id": "c5362ee8",
   "metadata": {},
   "outputs": [
    {
     "name": "stdout",
     "output_type": "stream",
     "text": [
      "Train-Set Confusion Matrix:\n",
      " [[35  0]\n",
      " [ 1 34]]\n",
      "Recall Score    :  0.9714285714285714\n",
      "Precision Score :  1.0\n",
      "F1 Score        :  0.9855072463768115\n",
      "Accuracy Score  :  0.9857142857142858\n",
      "ROC AUC         :  0.9975510204081632\n",
      "Test-Set Confusion Matrix:\n",
      " [[10  2]\n",
      " [ 1 11]]\n",
      "Recall Score    :  0.9166666666666666\n",
      "Precision Score :  0.8461538461538461\n",
      "F1 Score        :  0.8799999999999999\n",
      "Accuracy Score  :  0.875\n",
      "ROC AUC         :  0.9097222222222222\n"
     ]
    },
    {
     "data": {
      "image/png": "[encoded data removed]",
      "text/plain": [
       "<Figure size 432x288 with 2 Axes>"
      ]
     },
     "metadata": {
      "needs_background": "light"
     },
     "output_type": "display_data"
    },
    {
     "data": {
      "image/png": "[encoded data removed]",
      "text/plain": [
       "<Figure size 432x288 with 2 Axes>"
      ]
     },
     "metadata": {
      "needs_background": "light"
     },
     "output_type": "display_data"
    }
   ],
   "source": [
    "y_pred_train, y_pred_test, y_pred_prob_train, y_pred_prob_test = get_classifier_predictions(rf_best_grid, X_smote_train, y_smote_train, X_smote_test )\n",
    "df_model_test_train_acc4, df_model_performance4=print_classifier_scores(rf_best_grid, X_smote_train, X_smote_test, y_smote_train , y_smote_test, y_pred_train, y_pred_test, y_pred_prob_train, y_pred_prob_test , 'Random Forest Classifier'  )\n",
    "df_model=df_model.append(df_model_performance4,ignore_index=True )\n",
    "df_model_test_train_acc= df_model_test_train_acc.append(df_model_test_train_acc4, ignore_index=True)"
   ]
  },
  {
   "cell_type": "markdown",
   "id": "6d939138",
   "metadata": {},
   "source": [
    "## 9.5.  K-Nearest Neighbours - Model 5"
   ]
  },
  {
   "cell_type": "markdown",
   "id": "122b95fb",
   "metadata": {},
   "source": [
    "Prediction of Cancer type using **KNN** and hyperparameter tuning by using Grid Search CV"
   ]
  },
  {
   "cell_type": "code",
   "execution_count": 73,
   "id": "ae0028be",
   "metadata": {},
   "outputs": [
    {
     "name": "stdout",
     "output_type": "stream",
     "text": [
      "Fitting 10 folds for each of 108 candidates, totalling 1080 fits\n"
     ]
    },
    {
     "data": {
      "text/plain": [
       "GridSearchCV(cv=10, estimator=KNeighborsClassifier(), n_jobs=-1,\n",
       "             param_grid={'algorithm': ['ball_tree', 'kd_tree', 'brute'],\n",
       "                         'leaf_size': [5, 10, 15, 20, 25, 30],\n",
       "                         'n_neighbors': [5, 6, 7], 'p': [2],\n",
       "                         'weights': ['uniform', 'distance']},\n",
       "             verbose=1)"
      ]
     },
     "execution_count": 73,
     "metadata": {},
     "output_type": "execute_result"
    }
   ],
   "source": [
    "# do a grid search\n",
    "knn_params = {\"n_neighbors\": [5,6,7],\n",
    "              \"weights\": [\"uniform\", \"distance\"],\n",
    "              \"algorithm\": [\"ball_tree\", \"kd_tree\", \"brute\"],\n",
    "              \"leaf_size\": [5, 10,15,20,25, 30],\n",
    "               \"p\": [2]\n",
    "             }\n",
    "\n",
    "search = GridSearchCV(KNeighborsClassifier(), knn_params, n_jobs=-1, verbose=1,cv=10 )\n",
    "search.fit(X_smote_train, y_smote_train)"
   ]
  },
  {
   "cell_type": "code",
   "execution_count": 74,
   "id": "fc1a572b",
   "metadata": {},
   "outputs": [
    {
     "name": "stdout",
     "output_type": "stream",
     "text": [
      "Best Accuracy    : 0.8285714285714286\n",
      "Best Parameters  :  {'algorithm': 'ball_tree', 'leaf_size': 5, 'n_neighbors': 6, 'p': 2, 'weights': 'distance'}\n",
      "Best Estimators :  KNeighborsClassifier(algorithm='ball_tree', leaf_size=5, n_neighbors=6,\n",
      "                     weights='distance')\n"
     ]
    }
   ],
   "source": [
    "knn_best_grid=get_best_hyperparameters()"
   ]
  },
  {
   "cell_type": "code",
   "execution_count": 75,
   "id": "0f5733fd",
   "metadata": {},
   "outputs": [
    {
     "name": "stdout",
     "output_type": "stream",
     "text": [
      "Train-Set Confusion Matrix:\n",
      " [[35  0]\n",
      " [ 0 35]]\n",
      "Recall Score    :  1.0\n",
      "Precision Score :  1.0\n",
      "F1 Score        :  1.0\n",
      "Accuracy Score  :  1.0\n",
      "ROC AUC         :  1.0\n",
      "Test-Set Confusion Matrix:\n",
      " [[12  0]\n",
      " [ 2 10]]\n",
      "Recall Score    :  0.8333333333333334\n",
      "Precision Score :  1.0\n",
      "F1 Score        :  0.9090909090909091\n",
      "Accuracy Score  :  0.9166666666666666\n",
      "ROC AUC         :  0.9861111111111112\n"
     ]
    },
    {
     "data": {
      "image/png": "[encoded data removed]",
      "text/plain": [
       "<Figure size 432x288 with 2 Axes>"
      ]
     },
     "metadata": {
      "needs_background": "light"
     },
     "output_type": "display_data"
    },
    {
     "data": {
      "image/png": "[encoded data removed]",
      "text/plain": [
       "<Figure size 432x288 with 2 Axes>"
      ]
     },
     "metadata": {
      "needs_background": "light"
     },
     "output_type": "display_data"
    }
   ],
   "source": [
    "y_pred_train, y_pred_test, y_pred_prob_train, y_pred_prob_test = get_classifier_predictions(knn_best_grid, X_smote_train, y_smote_train, X_smote_test )\n",
    "df_model_test_train_acc5, df_model_performance5=print_classifier_scores(knn_best_grid, X_smote_train, X_smote_test, y_smote_train , y_smote_test, y_pred_train, y_pred_test, y_pred_prob_train, y_pred_prob_test , 'K-Nearest Neighbours'  )\n",
    "df_model=df_model.append(df_model_performance5,ignore_index=True )\n",
    "df_model_test_train_acc= df_model_test_train_acc.append(df_model_test_train_acc5, ignore_index=True)"
   ]
  },
  {
   "cell_type": "markdown",
   "id": "dcfb6952",
   "metadata": {},
   "source": [
    "## 9.6. Support Vector Machine - Model 6"
   ]
  },
  {
   "cell_type": "markdown",
   "id": "f81f45ec",
   "metadata": {},
   "source": [
    "Prediction of Cancer type using **SVM** and hyperparameter tuning by using Grid Search CV"
   ]
  },
  {
   "cell_type": "code",
   "execution_count": 76,
   "id": "e7216689",
   "metadata": {},
   "outputs": [
    {
     "name": "stdout",
     "output_type": "stream",
     "text": [
      "Fitting 3 folds for each of 292 candidates, totalling 876 fits\n"
     ]
    },
    {
     "data": {
      "text/plain": [
       "GridSearchCV(cv=StratifiedKFold(n_splits=3, random_state=0, shuffle=True),\n",
       "             estimator=SVC(), n_jobs=-1,\n",
       "             param_grid=[{'C': [1, 2, 3, 4], 'kernel': ['linear'],\n",
       "                          'probability': [True], 'random_state': [55]},\n",
       "                         {'C': [1, 2, 3, 4],\n",
       "                          'gamma': [0.1, 0.2, 0.3, 0.4, 0.5, 0.6, 0.7, 0.8,\n",
       "                                    0.9],\n",
       "                          'kernel': ['rbf'], 'probability': [True],\n",
       "                          'random_state': [55]},\n",
       "                         {'C': [1, 2, 3, 4], 'degree': [0, 1, 2, 3, 4, 5, 6],\n",
       "                          'gamma': [0.1, 0.2, 0.3, 0.4, 0.5, 0.6, 0.7, 0.8,\n",
       "                                    0.9],\n",
       "                          'kernel': ['poly'], 'probability': [True],\n",
       "                          'random_state': [55]}],\n",
       "             verbose=1)"
      ]
     },
     "execution_count": 76,
     "metadata": {},
     "output_type": "execute_result"
    }
   ],
   "source": [
    "# do a grid search\n",
    "svc_params = [{'C': [1,2,3,4], 'kernel': ['linear'] ,'probability': [True] ,'random_state' :[55]},\n",
    "              {'C': [1,2,3,4], 'kernel': ['rbf'], 'gamma': [0.1, 0.2, 0.3, 0.4, 0.5, 0.6, 0.7, 0.8, 0.9],'probability': [True],'random_state' :[55]},\n",
    "              {'C': [1,2,3,4], 'kernel': ['poly'], 'gamma': [0.1, 0.2, 0.3, 0.4, 0.5, 0.6, 0.7, 0.8, 0.9] \n",
    "                 , 'degree':[0, 1, 2, 3, 4, 5, 6],'probability': [True] ,'random_state' :[55]}]\n",
    "              \n",
    "cross_validation = StratifiedKFold(n_splits=3,random_state=0,shuffle=True)\n",
    "search = GridSearchCV(SVC(), svc_params, n_jobs=-1, verbose=1, cv=cross_validation)\n",
    "search.fit(X_smote_train, y_smote_train)"
   ]
  },
  {
   "cell_type": "code",
   "execution_count": 77,
   "id": "815ee965",
   "metadata": {},
   "outputs": [
    {
     "name": "stdout",
     "output_type": "stream",
     "text": [
      "Best Accuracy    : 0.9287439613526569\n",
      "Best Parameters  :  {'C': 1, 'kernel': 'linear', 'probability': True, 'random_state': 55}\n",
      "Best Estimators :  SVC(C=1, kernel='linear', probability=True, random_state=55)\n"
     ]
    }
   ],
   "source": [
    "svm_best_grid=get_best_hyperparameters()"
   ]
  },
  {
   "cell_type": "code",
   "execution_count": 78,
   "id": "e49a0744",
   "metadata": {},
   "outputs": [
    {
     "name": "stdout",
     "output_type": "stream",
     "text": [
      "Train-Set Confusion Matrix:\n",
      " [[35  0]\n",
      " [ 0 35]]\n",
      "Recall Score    :  1.0\n",
      "Precision Score :  1.0\n",
      "F1 Score        :  1.0\n",
      "Accuracy Score  :  1.0\n",
      "ROC AUC         :  1.0\n",
      "Test-Set Confusion Matrix:\n",
      " [[11  1]\n",
      " [ 0 12]]\n",
      "Recall Score    :  1.0\n",
      "Precision Score :  0.9230769230769231\n",
      "F1 Score        :  0.9600000000000001\n",
      "Accuracy Score  :  0.9583333333333334\n",
      "ROC AUC         :  1.0\n"
     ]
    },
    {
     "data": {
      "image/png": "[encoded data removed]",
      "text/plain": [
       "<Figure size 432x288 with 2 Axes>"
      ]
     },
     "metadata": {
      "needs_background": "light"
     },
     "output_type": "display_data"
    },
    {
     "data": {
      "image/png": "[encoded data removed]",
      "text/plain": [
       "<Figure size 432x288 with 2 Axes>"
      ]
     },
     "metadata": {
      "needs_background": "light"
     },
     "output_type": "display_data"
    }
   ],
   "source": [
    "y_pred_train, y_pred_test, y_pred_prob_train, y_pred_prob_test = get_classifier_predictions(svm_best_grid, X_smote_train, y_smote_train, X_smote_test )\n",
    "df_model_test_train_acc6, df_model_performance6=print_classifier_scores(svm_best_grid, X_smote_train, X_smote_test, y_smote_train , y_smote_test, y_pred_train, y_pred_test, y_pred_prob_train, y_pred_prob_test , 'Support Vector Classifier'  )\n",
    "df_model=df_model.append(df_model_performance6,ignore_index=True )\n",
    "df_model_test_train_acc= df_model_test_train_acc.append(df_model_test_train_acc6, ignore_index=True)"
   ]
  },
  {
   "cell_type": "markdown",
   "id": "cf109d83",
   "metadata": {},
   "source": [
    "---\n",
    "<a name = Section10></a>\n",
    "# 10. Summary\n",
    "---"
   ]
  },
  {
   "cell_type": "markdown",
   "id": "10fb5c5f",
   "metadata": {},
   "source": [
    "As the dataset is balanced after the use of SMOTE technique , we will look into accuracy of the model. **Linear Regression** and **SVM** gives the best accuracy of **95.8%**\n",
    "\n"
   ]
  },
  {
   "cell_type": "code",
   "execution_count": 81,
   "id": "bae686ab",
   "metadata": {},
   "outputs": [
    {
     "data": {
      "text/html": [
       "<div>\n",
       "<style scoped>\n",
       "    .dataframe tbody tr th:only-of-type {\n",
       "        vertical-align: middle;\n",
       "    }\n",
       "\n",
       "    .dataframe tbody tr th {\n",
       "        vertical-align: top;\n",
       "    }\n",
       "\n",
       "    .dataframe thead th {\n",
       "        text-align: right;\n",
       "    }\n",
       "</style>\n",
       "<table border=\"1\" class=\"dataframe\">\n",
       "  <thead>\n",
       "    <tr style=\"text-align: right;\">\n",
       "      <th></th>\n",
       "      <th>Model</th>\n",
       "      <th>Accuracy Score</th>\n",
       "      <th>F1 Score</th>\n",
       "      <th>Precision Score</th>\n",
       "      <th>Recall Score</th>\n",
       "      <th>ROC AUC</th>\n",
       "    </tr>\n",
       "  </thead>\n",
       "  <tbody>\n",
       "    <tr>\n",
       "      <th>0</th>\n",
       "      <td>Logistic Regression</td>\n",
       "      <td>0.958333</td>\n",
       "      <td>0.960000</td>\n",
       "      <td>0.923077</td>\n",
       "      <td>1.000000</td>\n",
       "      <td>0.986111</td>\n",
       "    </tr>\n",
       "    <tr>\n",
       "      <th>5</th>\n",
       "      <td>Support Vector Classifier</td>\n",
       "      <td>0.958333</td>\n",
       "      <td>0.960000</td>\n",
       "      <td>0.923077</td>\n",
       "      <td>1.000000</td>\n",
       "      <td>1.000000</td>\n",
       "    </tr>\n",
       "    <tr>\n",
       "      <th>4</th>\n",
       "      <td>K-Nearest Neighbours</td>\n",
       "      <td>0.916667</td>\n",
       "      <td>0.909091</td>\n",
       "      <td>1.000000</td>\n",
       "      <td>0.833333</td>\n",
       "      <td>0.986111</td>\n",
       "    </tr>\n",
       "    <tr>\n",
       "      <th>3</th>\n",
       "      <td>Random Forest Classifier</td>\n",
       "      <td>0.875000</td>\n",
       "      <td>0.880000</td>\n",
       "      <td>0.846154</td>\n",
       "      <td>0.916667</td>\n",
       "      <td>0.909722</td>\n",
       "    </tr>\n",
       "    <tr>\n",
       "      <th>1</th>\n",
       "      <td>Naive Bayes</td>\n",
       "      <td>0.833333</td>\n",
       "      <td>0.818182</td>\n",
       "      <td>0.900000</td>\n",
       "      <td>0.750000</td>\n",
       "      <td>0.979167</td>\n",
       "    </tr>\n",
       "    <tr>\n",
       "      <th>2</th>\n",
       "      <td>Decision Tree Classifier</td>\n",
       "      <td>0.666667</td>\n",
       "      <td>0.692308</td>\n",
       "      <td>0.642857</td>\n",
       "      <td>0.750000</td>\n",
       "      <td>0.704861</td>\n",
       "    </tr>\n",
       "  </tbody>\n",
       "</table>\n",
       "</div>"
      ],
      "text/plain": [
       "                       Model  Accuracy Score  F1 Score  Precision Score  \\\n",
       "0        Logistic Regression        0.958333  0.960000         0.923077   \n",
       "5  Support Vector Classifier        0.958333  0.960000         0.923077   \n",
       "4       K-Nearest Neighbours        0.916667  0.909091         1.000000   \n",
       "3   Random Forest Classifier        0.875000  0.880000         0.846154   \n",
       "1                Naive Bayes        0.833333  0.818182         0.900000   \n",
       "2   Decision Tree Classifier        0.666667  0.692308         0.642857   \n",
       "\n",
       "   Recall Score   ROC AUC  \n",
       "0      1.000000  0.986111  \n",
       "5      1.000000  1.000000  \n",
       "4      0.833333  0.986111  \n",
       "3      0.916667  0.909722  \n",
       "1      0.750000  0.979167  \n",
       "2      0.750000  0.704861  "
      ]
     },
     "execution_count": 81,
     "metadata": {},
     "output_type": "execute_result"
    }
   ],
   "source": [
    "df_model.sort_values(by=['Accuracy Score'], ascending=False)"
   ]
  },
  {
   "cell_type": "code",
   "execution_count": 80,
   "id": "4d28d66c",
   "metadata": {},
   "outputs": [
    {
     "data": {
      "text/html": [
       "<div>\n",
       "<style scoped>\n",
       "    .dataframe tbody tr th:only-of-type {\n",
       "        vertical-align: middle;\n",
       "    }\n",
       "\n",
       "    .dataframe tbody tr th {\n",
       "        vertical-align: top;\n",
       "    }\n",
       "\n",
       "    .dataframe thead th {\n",
       "        text-align: right;\n",
       "    }\n",
       "</style>\n",
       "<table border=\"1\" class=\"dataframe\">\n",
       "  <thead>\n",
       "    <tr style=\"text-align: right;\">\n",
       "      <th></th>\n",
       "      <th>Model</th>\n",
       "      <th>Train Accuracy Score</th>\n",
       "      <th>Test Accuracy Score</th>\n",
       "    </tr>\n",
       "  </thead>\n",
       "  <tbody>\n",
       "    <tr>\n",
       "      <th>0</th>\n",
       "      <td>Logistic Regression</td>\n",
       "      <td>1.000000</td>\n",
       "      <td>0.958333</td>\n",
       "    </tr>\n",
       "    <tr>\n",
       "      <th>1</th>\n",
       "      <td>Support Vector Classifier</td>\n",
       "      <td>1.000000</td>\n",
       "      <td>0.958333</td>\n",
       "    </tr>\n",
       "    <tr>\n",
       "      <th>2</th>\n",
       "      <td>K-Nearest Neighbours</td>\n",
       "      <td>1.000000</td>\n",
       "      <td>0.916667</td>\n",
       "    </tr>\n",
       "    <tr>\n",
       "      <th>3</th>\n",
       "      <td>Random Forest Classifier</td>\n",
       "      <td>0.985714</td>\n",
       "      <td>0.875000</td>\n",
       "    </tr>\n",
       "    <tr>\n",
       "      <th>4</th>\n",
       "      <td>Naive Bayes</td>\n",
       "      <td>0.942857</td>\n",
       "      <td>0.833333</td>\n",
       "    </tr>\n",
       "    <tr>\n",
       "      <th>5</th>\n",
       "      <td>Decision Tree Classifier</td>\n",
       "      <td>0.942857</td>\n",
       "      <td>0.666667</td>\n",
       "    </tr>\n",
       "  </tbody>\n",
       "</table>\n",
       "</div>"
      ],
      "text/plain": [
       "                       Model  Train Accuracy Score  Test Accuracy Score\n",
       "0        Logistic Regression              1.000000             0.958333\n",
       "1  Support Vector Classifier              1.000000             0.958333\n",
       "2       K-Nearest Neighbours              1.000000             0.916667\n",
       "3   Random Forest Classifier              0.985714             0.875000\n",
       "4                Naive Bayes              0.942857             0.833333\n",
       "5   Decision Tree Classifier              0.942857             0.666667"
      ]
     },
     "execution_count": 80,
     "metadata": {},
     "output_type": "execute_result"
    }
   ],
   "source": [
    "df_model_test_train_acc.sort_values(by=['Train Accuracy Score','Test Accuracy Score'], ascending=False ,ignore_index=True)"
   ]
  }
 ],
 "metadata": {
  "kernelspec": {
   "display_name": "Python 3",
   "language": "python",
   "name": "python3"
  },
  "language_info": {
   "codemirror_mode": {
    "name": "ipython",
    "version": 3
   },
   "file_extension": ".py",
   "mimetype": "text/x-python",
   "name": "python",
   "nbconvert_exporter": "python",
   "pygments_lexer": "ipython3",
   "version": "3.8.8"
  }
 },
 "nbformat": 4,
 "nbformat_minor": 5
}
